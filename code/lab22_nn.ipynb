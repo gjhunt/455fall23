{
 "cells": [
  {
   "cell_type": "code",
   "execution_count": 4,
   "metadata": {},
   "outputs": [],
   "source": [
    "library('keras')"
   ]
  },
  {
   "cell_type": "code",
   "execution_count": 5,
   "metadata": {
    "collapsed": true,
    "jupyter": {
     "outputs_hidden": true
    }
   },
   "outputs": [
    {
     "ename": "ERROR",
     "evalue": "Error: Your current architecture is 32bit; however, this version of Python was compiled for 64bit.\nPlease create a default virtual environment with `reticulate::virtualenv_create('r-reticulate')`.\n",
     "output_type": "error",
     "traceback": [
      "Error: Your current architecture is 32bit; however, this version of Python was compiled for 64bit.\nPlease create a default virtual environment with `reticulate::virtualenv_create('r-reticulate')`.\nTraceback:\n",
      "1. dataset_mnist()",
      "2. keras$datasets",
      "3. `$.python.builtin.module`(keras, \"datasets\")",
      "4. py_resolve_module_proxy(x)",
      "5. on_error(result)",
      "6. stop(tf_config()$error_message, call. = FALSE)",
      "7. tf_config()",
      "8. py_config()",
      "9. ensure_python_initialized()",
      "10. initialize_python()",
      "11. python_not_found(msg)",
      "12. stop(paste(msg, hint, sep = \"\\n\"), call. = FALSE)"
     ]
    }
   ],
   "source": [
    "mnist <- dataset_mnist ()"
   ]
  },
  {
   "cell_type": "code",
   "execution_count": 4,
   "metadata": {},
   "outputs": [
    {
     "data": {
      "text/html": [
       "<style>\n",
       ".list-inline {list-style: none; margin:0; padding: 0}\n",
       ".list-inline>li {display: inline-block}\n",
       ".list-inline>li:not(:last-child)::after {content: \"\\00b7\"; padding: 0 .5ex}\n",
       "</style>\n",
       "<ol class=list-inline><li>'train'</li><li>'test'</li></ol>\n"
      ],
      "text/latex": [
       "\\begin{enumerate*}\n",
       "\\item 'train'\n",
       "\\item 'test'\n",
       "\\end{enumerate*}\n"
      ],
      "text/markdown": [
       "1. 'train'\n",
       "2. 'test'\n",
       "\n",
       "\n"
      ],
      "text/plain": [
       "[1] \"train\" \"test\" "
      ]
     },
     "metadata": {},
     "output_type": "display_data"
    }
   ],
   "source": [
    "names(mnist)"
   ]
  },
  {
   "cell_type": "code",
   "execution_count": 5,
   "metadata": {},
   "outputs": [
    {
     "data": {
      "text/html": [
       "<style>\n",
       ".list-inline {list-style: none; margin:0; padding: 0}\n",
       ".list-inline>li {display: inline-block}\n",
       ".list-inline>li:not(:last-child)::after {content: \"\\00b7\"; padding: 0 .5ex}\n",
       "</style>\n",
       "<ol class=list-inline><li>60000</li><li>28</li><li>28</li></ol>\n"
      ],
      "text/latex": [
       "\\begin{enumerate*}\n",
       "\\item 60000\n",
       "\\item 28\n",
       "\\item 28\n",
       "\\end{enumerate*}\n"
      ],
      "text/markdown": [
       "1. 60000\n",
       "2. 28\n",
       "3. 28\n",
       "\n",
       "\n"
      ],
      "text/plain": [
       "[1] 60000    28    28"
      ]
     },
     "metadata": {},
     "output_type": "display_data"
    },
    {
     "data": {
      "text/html": [
       "<style>\n",
       ".list-inline {list-style: none; margin:0; padding: 0}\n",
       ".list-inline>li {display: inline-block}\n",
       ".list-inline>li:not(:last-child)::after {content: \"\\00b7\"; padding: 0 .5ex}\n",
       "</style>\n",
       "<ol class=list-inline><li>10000</li><li>28</li><li>28</li></ol>\n"
      ],
      "text/latex": [
       "\\begin{enumerate*}\n",
       "\\item 10000\n",
       "\\item 28\n",
       "\\item 28\n",
       "\\end{enumerate*}\n"
      ],
      "text/markdown": [
       "1. 10000\n",
       "2. 28\n",
       "3. 28\n",
       "\n",
       "\n"
      ],
      "text/plain": [
       "[1] 10000    28    28"
      ]
     },
     "metadata": {},
     "output_type": "display_data"
    }
   ],
   "source": [
    "x_train <- mnist$train$x\n",
    "g_train <- mnist$train$y\n",
    "x_test <- mnist$test$x\n",
    "g_test <- mnist$test$y\n",
    "dim(x_train)\n",
    "dim(x_test)"
   ]
  },
  {
   "cell_type": "code",
   "execution_count": 25,
   "metadata": {},
   "outputs": [
    {
     "data": {
      "text/html": [
       "<table class=\"dataframe\">\n",
       "<caption>A data.frame: 6 × 3</caption>\n",
       "<thead>\n",
       "\t<tr><th></th><th scope=col>Var1</th><th scope=col>Var2</th><th scope=col>value</th></tr>\n",
       "\t<tr><th></th><th scope=col>&lt;int&gt;</th><th scope=col>&lt;int&gt;</th><th scope=col>&lt;int&gt;</th></tr>\n",
       "</thead>\n",
       "<tbody>\n",
       "\t<tr><th scope=row>1</th><td>1</td><td>1</td><td>0</td></tr>\n",
       "\t<tr><th scope=row>2</th><td>2</td><td>1</td><td>0</td></tr>\n",
       "\t<tr><th scope=row>3</th><td>3</td><td>1</td><td>0</td></tr>\n",
       "\t<tr><th scope=row>4</th><td>4</td><td>1</td><td>0</td></tr>\n",
       "\t<tr><th scope=row>5</th><td>5</td><td>1</td><td>0</td></tr>\n",
       "\t<tr><th scope=row>6</th><td>6</td><td>1</td><td>0</td></tr>\n",
       "</tbody>\n",
       "</table>\n"
      ],
      "text/latex": [
       "A data.frame: 6 × 3\n",
       "\\begin{tabular}{r|lll}\n",
       "  & Var1 & Var2 & value\\\\\n",
       "  & <int> & <int> & <int>\\\\\n",
       "\\hline\n",
       "\t1 & 1 & 1 & 0\\\\\n",
       "\t2 & 2 & 1 & 0\\\\\n",
       "\t3 & 3 & 1 & 0\\\\\n",
       "\t4 & 4 & 1 & 0\\\\\n",
       "\t5 & 5 & 1 & 0\\\\\n",
       "\t6 & 6 & 1 & 0\\\\\n",
       "\\end{tabular}\n"
      ],
      "text/markdown": [
       "\n",
       "A data.frame: 6 × 3\n",
       "\n",
       "| <!--/--> | Var1 &lt;int&gt; | Var2 &lt;int&gt; | value &lt;int&gt; |\n",
       "|---|---|---|---|\n",
       "| 1 | 1 | 1 | 0 |\n",
       "| 2 | 2 | 1 | 0 |\n",
       "| 3 | 3 | 1 | 0 |\n",
       "| 4 | 4 | 1 | 0 |\n",
       "| 5 | 5 | 1 | 0 |\n",
       "| 6 | 6 | 1 | 0 |\n",
       "\n"
      ],
      "text/plain": [
       "  Var1 Var2 value\n",
       "1 1    1    0    \n",
       "2 2    1    0    \n",
       "3 3    1    0    \n",
       "4 4    1    0    \n",
       "5 5    1    0    \n",
       "6 6    1    0    "
      ]
     },
     "metadata": {},
     "output_type": "display_data"
    }
   ],
   "source": [
    "plt_df = reshape2::melt(mnist$train$x[20,,])\n",
    "head(plt_df)"
   ]
  },
  {
   "cell_type": "code",
   "execution_count": 26,
   "metadata": {},
   "outputs": [],
   "source": [
    "library('ggplot2')"
   ]
  },
  {
   "cell_type": "code",
   "execution_count": 27,
   "metadata": {},
   "outputs": [
    {
     "data": {
      "image/png": "[encoded data removed]",
      "text/plain": [
       "plot without title"
      ]
     },
     "metadata": {
      "image/png": {
       "height": 420,
       "width": 420
      }
     },
     "output_type": "display_data"
    }
   ],
   "source": [
    "ggplot(data=plt_df,mapping=aes(x=Var2,y=Var1,fill=value))+geom_tile()+scale_y_reverse()"
   ]
  },
  {
   "cell_type": "code",
   "execution_count": 28,
   "metadata": {},
   "outputs": [],
   "source": [
    "x_train <- array_reshape(x_train, c(nrow(x_train), 784))\n",
    "x_test <- array_reshape(x_test, c(nrow(x_test), 784))\n",
    "y_train <- to_categorical(g_train, 10)\n",
    "y_test <- to_categorical(g_test, 10)"
   ]
  },
  {
   "cell_type": "code",
   "execution_count": 29,
   "metadata": {},
   "outputs": [],
   "source": [
    "x_train <- x_train / 255\n",
    "x_test <- x_test / 255"
   ]
  },
  {
   "cell_type": "code",
   "execution_count": 32,
   "metadata": {},
   "outputs": [],
   "source": [
    "modelnn <- keras_model_sequential()\n",
    "modelnn %>%\n",
    "  layer_dense(units = 256, activation = \"relu\",\n",
    "       input_shape = c(784)) %>%\n",
    "  layer_dropout(rate = 0.4) %>%\n",
    "  layer_dense(units = 128, activation = \"relu\") %>%\n",
    "  layer_dropout(rate = 0.3) %>%\n",
    "  layer_dense(units = 10, activation = \"softmax\")"
   ]
  },
  {
   "cell_type": "code",
   "execution_count": 33,
   "metadata": {},
   "outputs": [
    {
     "name": "stdout",
     "output_type": "stream",
     "text": [
      "Model: \"sequential_1\"\n",
      "________________________________________________________________________________\n",
      " Layer (type)                       Output Shape                    Param #     \n",
      "================================================================================\n",
      " dense_5 (Dense)                    (None, 256)                     200960      \n",
      " dropout_3 (Dropout)                (None, 256)                     0           \n",
      " dense_4 (Dense)                    (None, 128)                     32896       \n",
      " dropout_2 (Dropout)                (None, 128)                     0           \n",
      " dense_3 (Dense)                    (None, 10)                      1290        \n",
      "================================================================================\n",
      "Total params: 235146 (918.54 KB)\n",
      "Trainable params: 235146 (918.54 KB)\n",
      "Non-trainable params: 0 (0.00 Byte)\n",
      "________________________________________________________________________________\n"
     ]
    }
   ],
   "source": [
    "summary(modelnn)"
   ]
  },
  {
   "cell_type": "code",
   "execution_count": 34,
   "metadata": {},
   "outputs": [],
   "source": [
    "modelnn %>% compile(loss = \"categorical_crossentropy\",\n",
    "    optimizer = optimizer_rmsprop(), metrics = c(\"accuracy\")\n",
    "  )"
   ]
  },
  {
   "cell_type": "code",
   "execution_count": 35,
   "metadata": {},
   "outputs": [
    {
     "data": {
      "text/plain": [
       "   user  system elapsed \n",
       "120.222   6.390  33.622 "
      ]
     },
     "metadata": {},
     "output_type": "display_data"
    }
   ],
   "source": [
    "system.time(\n",
    "  history <- modelnn %>%\n",
    "    fit(x_train, y_train, epochs = 30, batch_size = 128,\n",
    "        validation_split = 0.2)\n",
    ")"
   ]
  },
  {
   "cell_type": "code",
   "execution_count": 36,
   "metadata": {},
   "outputs": [
    {
     "data": {
      "image/png": "[encoded data removed]",
      "text/plain": [
       "plot without title"
      ]
     },
     "metadata": {
      "image/png": {
       "height": 420,
       "width": 420
      }
     },
     "output_type": "display_data"
    }
   ],
   "source": [
    "plot(history , smooth = FALSE)"
   ]
  },
  {
   "cell_type": "code",
   "execution_count": 38,
   "metadata": {},
   "outputs": [],
   "source": [
    "accuracy <- function(pred, truth)\n",
    "  mean(drop(as.numeric(pred)) == drop(truth))"
   ]
  },
  {
   "cell_type": "code",
   "execution_count": 40,
   "metadata": {},
   "outputs": [
    {
     "name": "stdout",
     "output_type": "stream",
     "text": [
      "Model: \"sequential_1\"\n",
      "________________________________________________________________________________\n",
      " Layer (type)                       Output Shape                    Param #     \n",
      "================================================================================\n",
      " dense_5 (Dense)                    (None, 256)                     200960      \n",
      " dropout_3 (Dropout)                (None, 256)                     0           \n",
      " dense_4 (Dense)                    (None, 128)                     32896       \n",
      " dropout_2 (Dropout)                (None, 128)                     0           \n",
      " dense_3 (Dense)                    (None, 10)                      1290        \n",
      "================================================================================\n",
      "Total params: 235146 (918.54 KB)\n",
      "Trainable params: 235146 (918.54 KB)\n",
      "Non-trainable params: 0 (0.00 Byte)\n",
      "________________________________________________________________________________\n"
     ]
    }
   ],
   "source": [
    "summary(modelnn)"
   ]
  },
  {
   "cell_type": "code",
   "execution_count": 42,
   "metadata": {},
   "outputs": [
    {
     "data": {
      "text/html": [
       "<table class=\"dataframe\">\n",
       "<caption>A matrix: 6 × 10 of type dbl</caption>\n",
       "<tbody>\n",
       "\t<tr><td>6.386637e-19</td><td>9.791517e-16</td><td>1.129378e-13</td><td>4.121779e-14</td><td>7.224402e-19</td><td>9.323469e-18</td><td>8.239543e-28</td><td>9.999999e-01</td><td>3.519039e-19</td><td>8.055954e-13</td></tr>\n",
       "\t<tr><td>9.885565e-17</td><td>2.380784e-11</td><td>9.999999e-01</td><td>1.489810e-12</td><td>4.434496e-23</td><td>3.149963e-18</td><td>1.057590e-14</td><td>7.632090e-19</td><td>2.845563e-15</td><td>8.584266e-26</td></tr>\n",
       "\t<tr><td>3.419702e-09</td><td>9.999952e-01</td><td>8.129630e-07</td><td>5.963159e-10</td><td>2.430966e-07</td><td>1.701237e-08</td><td>7.273183e-07</td><td>1.673339e-06</td><td>1.311898e-06</td><td>1.424963e-11</td></tr>\n",
       "\t<tr><td>9.999997e-01</td><td>2.113651e-14</td><td>4.103225e-08</td><td>2.325739e-11</td><td>2.066230e-10</td><td>2.252888e-09</td><td>2.501270e-07</td><td>9.320518e-10</td><td>6.214585e-10</td><td>3.836621e-09</td></tr>\n",
       "\t<tr><td>2.179593e-11</td><td>8.722264e-13</td><td>1.593141e-11</td><td>8.558256e-14</td><td>9.999996e-01</td><td>1.065855e-11</td><td>4.811461e-11</td><td>9.249863e-08</td><td>1.444112e-11</td><td>2.531188e-07</td></tr>\n",
       "\t<tr><td>1.286126e-10</td><td>9.999989e-01</td><td>4.506625e-09</td><td>1.375732e-11</td><td>3.886058e-07</td><td>7.869654e-11</td><td>4.377287e-09</td><td>6.998795e-07</td><td>5.861874e-08</td><td>3.367783e-12</td></tr>\n",
       "</tbody>\n",
       "</table>\n"
      ],
      "text/latex": [
       "A matrix: 6 × 10 of type dbl\n",
       "\\begin{tabular}{llllllllll}\n",
       "\t 6.386637e-19 & 9.791517e-16 & 1.129378e-13 & 4.121779e-14 & 7.224402e-19 & 9.323469e-18 & 8.239543e-28 & 9.999999e-01 & 3.519039e-19 & 8.055954e-13\\\\\n",
       "\t 9.885565e-17 & 2.380784e-11 & 9.999999e-01 & 1.489810e-12 & 4.434496e-23 & 3.149963e-18 & 1.057590e-14 & 7.632090e-19 & 2.845563e-15 & 8.584266e-26\\\\\n",
       "\t 3.419702e-09 & 9.999952e-01 & 8.129630e-07 & 5.963159e-10 & 2.430966e-07 & 1.701237e-08 & 7.273183e-07 & 1.673339e-06 & 1.311898e-06 & 1.424963e-11\\\\\n",
       "\t 9.999997e-01 & 2.113651e-14 & 4.103225e-08 & 2.325739e-11 & 2.066230e-10 & 2.252888e-09 & 2.501270e-07 & 9.320518e-10 & 6.214585e-10 & 3.836621e-09\\\\\n",
       "\t 2.179593e-11 & 8.722264e-13 & 1.593141e-11 & 8.558256e-14 & 9.999996e-01 & 1.065855e-11 & 4.811461e-11 & 9.249863e-08 & 1.444112e-11 & 2.531188e-07\\\\\n",
       "\t 1.286126e-10 & 9.999989e-01 & 4.506625e-09 & 1.375732e-11 & 3.886058e-07 & 7.869654e-11 & 4.377287e-09 & 6.998795e-07 & 5.861874e-08 & 3.367783e-12\\\\\n",
       "\\end{tabular}\n"
      ],
      "text/markdown": [
       "\n",
       "A matrix: 6 × 10 of type dbl\n",
       "\n",
       "| 6.386637e-19 | 9.791517e-16 | 1.129378e-13 | 4.121779e-14 | 7.224402e-19 | 9.323469e-18 | 8.239543e-28 | 9.999999e-01 | 3.519039e-19 | 8.055954e-13 |\n",
       "| 9.885565e-17 | 2.380784e-11 | 9.999999e-01 | 1.489810e-12 | 4.434496e-23 | 3.149963e-18 | 1.057590e-14 | 7.632090e-19 | 2.845563e-15 | 8.584266e-26 |\n",
       "| 3.419702e-09 | 9.999952e-01 | 8.129630e-07 | 5.963159e-10 | 2.430966e-07 | 1.701237e-08 | 7.273183e-07 | 1.673339e-06 | 1.311898e-06 | 1.424963e-11 |\n",
       "| 9.999997e-01 | 2.113651e-14 | 4.103225e-08 | 2.325739e-11 | 2.066230e-10 | 2.252888e-09 | 2.501270e-07 | 9.320518e-10 | 6.214585e-10 | 3.836621e-09 |\n",
       "| 2.179593e-11 | 8.722264e-13 | 1.593141e-11 | 8.558256e-14 | 9.999996e-01 | 1.065855e-11 | 4.811461e-11 | 9.249863e-08 | 1.444112e-11 | 2.531188e-07 |\n",
       "| 1.286126e-10 | 9.999989e-01 | 4.506625e-09 | 1.375732e-11 | 3.886058e-07 | 7.869654e-11 | 4.377287e-09 | 6.998795e-07 | 5.861874e-08 | 3.367783e-12 |\n",
       "\n"
      ],
      "text/plain": [
       "     [,1]         [,2]         [,3]         [,4]         [,5]        \n",
       "[1,] 6.386637e-19 9.791517e-16 1.129378e-13 4.121779e-14 7.224402e-19\n",
       "[2,] 9.885565e-17 2.380784e-11 9.999999e-01 1.489810e-12 4.434496e-23\n",
       "[3,] 3.419702e-09 9.999952e-01 8.129630e-07 5.963159e-10 2.430966e-07\n",
       "[4,] 9.999997e-01 2.113651e-14 4.103225e-08 2.325739e-11 2.066230e-10\n",
       "[5,] 2.179593e-11 8.722264e-13 1.593141e-11 8.558256e-14 9.999996e-01\n",
       "[6,] 1.286126e-10 9.999989e-01 4.506625e-09 1.375732e-11 3.886058e-07\n",
       "     [,6]         [,7]         [,8]         [,9]         [,10]       \n",
       "[1,] 9.323469e-18 8.239543e-28 9.999999e-01 3.519039e-19 8.055954e-13\n",
       "[2,] 3.149963e-18 1.057590e-14 7.632090e-19 2.845563e-15 8.584266e-26\n",
       "[3,] 1.701237e-08 7.273183e-07 1.673339e-06 1.311898e-06 1.424963e-11\n",
       "[4,] 2.252888e-09 2.501270e-07 9.320518e-10 6.214585e-10 3.836621e-09\n",
       "[5,] 1.065855e-11 4.811461e-11 9.249863e-08 1.444112e-11 2.531188e-07\n",
       "[6,] 7.869654e-11 4.377287e-09 6.998795e-07 5.861874e-08 3.367783e-12"
      ]
     },
     "metadata": {},
     "output_type": "display_data"
    }
   ],
   "source": [
    "modelnn %>% predict(x_test) %>% head()"
   ]
  },
  {
   "cell_type": "code",
   "execution_count": 44,
   "metadata": {},
   "outputs": [
    {
     "data": {
      "text/plain": [
       "tf.Tensor([7 2 1 0 4 1 4 9 5 9], shape=(10), dtype=int64)"
      ]
     },
     "metadata": {},
     "output_type": "display_data"
    }
   ],
   "source": [
    "modelnn %>% predict(x_test) %>% k_argmax() %>% head(n=10)"
   ]
  },
  {
   "cell_type": "code",
   "execution_count": 46,
   "metadata": {},
   "outputs": [
    {
     "data": {
      "text/html": [
       "0.983"
      ],
      "text/latex": [
       "0.983"
      ],
      "text/markdown": [
       "0.983"
      ],
      "text/plain": [
       "[1] 0.983"
      ]
     },
     "metadata": {},
     "output_type": "display_data"
    }
   ],
   "source": [
    "modelnn %>% predict(x_test) %>% k_argmax() %>% accuracy(g_test)"
   ]
  },
  {
   "cell_type": "code",
   "execution_count": null,
   "metadata": {},
   "outputs": [],
   "source": []
  }
 ],
 "metadata": {
  "kernelspec": {
   "display_name": "R",
   "language": "R",
   "name": "ir"
  },
  "language_info": {
   "codemirror_mode": "r",
   "file_extension": ".r",
   "mimetype": "text/x-r-source",
   "name": "R",
   "pygments_lexer": "r",
   "version": "4.0.3"
  }
 },
 "nbformat": 4,
 "nbformat_minor": 5
}
