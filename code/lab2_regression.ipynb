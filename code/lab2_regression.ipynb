{
 "cells": [
  {
   "cell_type": "markdown",
   "metadata": {},
   "source": [
    "# Generate some simulated data"
   ]
  },
  {
   "cell_type": "code",
   "execution_count": 1,
   "metadata": {},
   "outputs": [],
   "source": [
    "gen_data = function(N,P,s=1/10){\n",
    "    X = array(rnorm(N*P),c(N,P))\n",
    "    beta = array(rnorm(P+1),c(P+1,1))\n",
    "    epsilon = array(rnorm(N,sd=s),c(N,1))\n",
    "    y = cbind(1,X)%*%beta + epsilon\n",
    "    return(list(\n",
    "        X=X,beta=beta,epsilon=epsilon,y=y\n",
    "        )\n",
    "    )\n",
    "}"
   ]
  },
  {
   "cell_type": "code",
   "execution_count": 2,
   "metadata": {},
   "outputs": [],
   "source": [
    "d = gen_data(100,1)"
   ]
  },
  {
   "cell_type": "code",
   "execution_count": 11,
   "metadata": {},
   "outputs": [
    {
     "data": {
      "image/png": "[encoded data removed]",
      "text/plain": [
       "plot without title"
      ]
     },
     "metadata": {
      "image/png": {
       "height": 420,
       "width": 420
      }
     },
     "output_type": "display_data"
    }
   ],
   "source": [
    "plot(d$X,d$y)"
   ]
  },
  {
   "cell_type": "code",
   "execution_count": 3,
   "metadata": {},
   "outputs": [
    {
     "data": {
      "text/html": [
       "<table class=\"dataframe\">\n",
       "<caption>A matrix: 6 × 1 of type dbl</caption>\n",
       "<tbody>\n",
       "\t<tr><td> 0.8215691</td></tr>\n",
       "\t<tr><td> 0.8205578</td></tr>\n",
       "\t<tr><td> 0.1077850</td></tr>\n",
       "\t<tr><td>-0.1938196</td></tr>\n",
       "\t<tr><td>-0.2391866</td></tr>\n",
       "\t<tr><td>-0.8953086</td></tr>\n",
       "</tbody>\n",
       "</table>\n"
      ],
      "text/latex": [
       "A matrix: 6 × 1 of type dbl\n",
       "\\begin{tabular}{l}\n",
       "\t  0.8215691\\\\\n",
       "\t  0.8205578\\\\\n",
       "\t  0.1077850\\\\\n",
       "\t -0.1938196\\\\\n",
       "\t -0.2391866\\\\\n",
       "\t -0.8953086\\\\\n",
       "\\end{tabular}\n"
      ],
      "text/markdown": [
       "\n",
       "A matrix: 6 × 1 of type dbl\n",
       "\n",
       "|  0.8215691 |\n",
       "|  0.8205578 |\n",
       "|  0.1077850 |\n",
       "| -0.1938196 |\n",
       "| -0.2391866 |\n",
       "| -0.8953086 |\n",
       "\n"
      ],
      "text/plain": [
       "     [,1]      \n",
       "[1,]  0.8215691\n",
       "[2,]  0.8205578\n",
       "[3,]  0.1077850\n",
       "[4,] -0.1938196\n",
       "[5,] -0.2391866\n",
       "[6,] -0.8953086"
      ]
     },
     "metadata": {},
     "output_type": "display_data"
    }
   ],
   "source": [
    "head(d$X)"
   ]
  },
  {
   "cell_type": "code",
   "execution_count": 4,
   "metadata": {},
   "outputs": [
    {
     "data": {
      "text/html": [
       "<table class=\"dataframe\">\n",
       "<caption>A matrix: 2 × 1 of type dbl</caption>\n",
       "<tbody>\n",
       "\t<tr><td>-2.0142300</td></tr>\n",
       "\t<tr><td>-0.1941409</td></tr>\n",
       "</tbody>\n",
       "</table>\n"
      ],
      "text/latex": [
       "A matrix: 2 × 1 of type dbl\n",
       "\\begin{tabular}{l}\n",
       "\t -2.0142300\\\\\n",
       "\t -0.1941409\\\\\n",
       "\\end{tabular}\n"
      ],
      "text/markdown": [
       "\n",
       "A matrix: 2 × 1 of type dbl\n",
       "\n",
       "| -2.0142300 |\n",
       "| -0.1941409 |\n",
       "\n"
      ],
      "text/plain": [
       "     [,1]      \n",
       "[1,] -2.0142300\n",
       "[2,] -0.1941409"
      ]
     },
     "metadata": {},
     "output_type": "display_data"
    }
   ],
   "source": [
    "head(d$beta)"
   ]
  },
  {
   "cell_type": "code",
   "execution_count": 5,
   "metadata": {},
   "outputs": [
    {
     "data": {
      "text/html": [
       "<table class=\"dataframe\">\n",
       "<caption>A matrix: 6 × 1 of type dbl</caption>\n",
       "<tbody>\n",
       "\t<tr><td>-2.339384</td></tr>\n",
       "\t<tr><td>-2.205414</td></tr>\n",
       "\t<tr><td>-1.968882</td></tr>\n",
       "\t<tr><td>-1.768323</td></tr>\n",
       "\t<tr><td>-2.000104</td></tr>\n",
       "\t<tr><td>-1.804218</td></tr>\n",
       "</tbody>\n",
       "</table>\n"
      ],
      "text/latex": [
       "A matrix: 6 × 1 of type dbl\n",
       "\\begin{tabular}{l}\n",
       "\t -2.339384\\\\\n",
       "\t -2.205414\\\\\n",
       "\t -1.968882\\\\\n",
       "\t -1.768323\\\\\n",
       "\t -2.000104\\\\\n",
       "\t -1.804218\\\\\n",
       "\\end{tabular}\n"
      ],
      "text/markdown": [
       "\n",
       "A matrix: 6 × 1 of type dbl\n",
       "\n",
       "| -2.339384 |\n",
       "| -2.205414 |\n",
       "| -1.968882 |\n",
       "| -1.768323 |\n",
       "| -2.000104 |\n",
       "| -1.804218 |\n",
       "\n"
      ],
      "text/plain": [
       "     [,1]     \n",
       "[1,] -2.339384\n",
       "[2,] -2.205414\n",
       "[3,] -1.968882\n",
       "[4,] -1.768323\n",
       "[5,] -2.000104\n",
       "[6,] -1.804218"
      ]
     },
     "metadata": {},
     "output_type": "display_data"
    }
   ],
   "source": [
    "head(d$y)"
   ]
  },
  {
   "cell_type": "code",
   "execution_count": 6,
   "metadata": {},
   "outputs": [
    {
     "data": {
      "text/html": [
       "<style>\n",
       ".list-inline {list-style: none; margin:0; padding: 0}\n",
       ".list-inline>li {display: inline-block}\n",
       ".list-inline>li:not(:last-child)::after {content: \"\\00b7\"; padding: 0 .5ex}\n",
       "</style>\n",
       "<ol class=list-inline><li>'X'</li><li>'beta'</li><li>'epsilon'</li><li>'y'</li></ol>\n"
      ],
      "text/latex": [
       "\\begin{enumerate*}\n",
       "\\item 'X'\n",
       "\\item 'beta'\n",
       "\\item 'epsilon'\n",
       "\\item 'y'\n",
       "\\end{enumerate*}\n"
      ],
      "text/markdown": [
       "1. 'X'\n",
       "2. 'beta'\n",
       "3. 'epsilon'\n",
       "4. 'y'\n",
       "\n",
       "\n"
      ],
      "text/plain": [
       "[1] \"X\"       \"beta\"    \"epsilon\" \"y\"      "
      ]
     },
     "metadata": {},
     "output_type": "display_data"
    }
   ],
   "source": [
    "names(d)"
   ]
  },
  {
   "cell_type": "markdown",
   "metadata": {},
   "source": [
    "# Fitting in `R` using `lm`"
   ]
  },
  {
   "cell_type": "code",
   "execution_count": 7,
   "metadata": {},
   "outputs": [],
   "source": [
    "mod = lm(d$y~d$X)"
   ]
  },
  {
   "cell_type": "code",
   "execution_count": 8,
   "metadata": {},
   "outputs": [
    {
     "data": {
      "text/plain": [
       "\n",
       "Call:\n",
       "lm(formula = d$y ~ d$X)\n",
       "\n",
       "Residuals:\n",
       "      Min        1Q    Median        3Q       Max \n",
       "-0.247125 -0.061719  0.002908  0.060893  0.247895 \n",
       "\n",
       "Coefficients:\n",
       "            Estimate Std. Error t value Pr(>|t|)    \n",
       "(Intercept) -2.00814    0.01054 -190.49   <2e-16 ***\n",
       "d$X         -0.19436    0.01034  -18.79   <2e-16 ***\n",
       "---\n",
       "Signif. codes:  0 '***' 0.001 '**' 0.01 '*' 0.05 '.' 0.1 ' ' 1\n",
       "\n",
       "Residual standard error: 0.1054 on 98 degrees of freedom\n",
       "Multiple R-squared:  0.7827,\tAdjusted R-squared:  0.7805 \n",
       "F-statistic:   353 on 1 and 98 DF,  p-value: < 2.2e-16\n"
      ]
     },
     "metadata": {},
     "output_type": "display_data"
    }
   ],
   "source": [
    "summary(mod)"
   ]
  },
  {
   "cell_type": "code",
   "execution_count": 9,
   "metadata": {},
   "outputs": [
    {
     "data": {
      "text/html": [
       "<style>\n",
       ".dl-inline {width: auto; margin:0; padding: 0}\n",
       ".dl-inline>dt, .dl-inline>dd {float: none; width: auto; display: inline-block}\n",
       ".dl-inline>dt::after {content: \":\\0020\"; padding-right: .5ex}\n",
       ".dl-inline>dt:not(:first-of-type) {padding-left: .5ex}\n",
       "</style><dl class=dl-inline><dt>(Intercept)</dt><dd>-2.00813812705391</dd><dt>d$X</dt><dd>-0.194356112045342</dd></dl>\n"
      ],
      "text/latex": [
       "\\begin{description*}\n",
       "\\item[(Intercept)] -2.00813812705391\n",
       "\\item[d\\textbackslash{}\\$X] -0.194356112045342\n",
       "\\end{description*}\n"
      ],
      "text/markdown": [
       "(Intercept)\n",
       ":   -2.00813812705391d$X\n",
       ":   -0.194356112045342\n",
       "\n"
      ],
      "text/plain": [
       "(Intercept)         d$X \n",
       " -2.0081381  -0.1943561 "
      ]
     },
     "metadata": {},
     "output_type": "display_data"
    }
   ],
   "source": [
    "mod$coef"
   ]
  },
  {
   "cell_type": "code",
   "execution_count": 12,
   "metadata": {},
   "outputs": [
    {
     "data": {
      "text/html": [
       "<style>\n",
       ".dl-inline {width: auto; margin:0; padding: 0}\n",
       ".dl-inline>dt, .dl-inline>dd {float: none; width: auto; display: inline-block}\n",
       ".dl-inline>dt::after {content: \":\\0020\"; padding-right: .5ex}\n",
       ".dl-inline>dt:not(:first-of-type) {padding-left: .5ex}\n",
       "</style><dl class=dl-inline><dt>1</dt><dd>-2.16781509570581</dd><dt>2</dt><dd>-2.16761854857064</dd><dt>3</dt><dd>-2.02908680173202</dd><dt>4</dt><dd>-1.97046810445126</dd><dt>5</dt><dd>-1.96165075444161</dd><dt>6</dt><dd>-1.83412942799035</dd></dl>\n"
      ],
      "text/latex": [
       "\\begin{description*}\n",
       "\\item[1] -2.16781509570581\n",
       "\\item[2] -2.16761854857064\n",
       "\\item[3] -2.02908680173202\n",
       "\\item[4] -1.97046810445126\n",
       "\\item[5] -1.96165075444161\n",
       "\\item[6] -1.83412942799035\n",
       "\\end{description*}\n"
      ],
      "text/markdown": [
       "1\n",
       ":   -2.167815095705812\n",
       ":   -2.167618548570643\n",
       ":   -2.029086801732024\n",
       ":   -1.970468104451265\n",
       ":   -1.961650754441616\n",
       ":   -1.83412942799035\n",
       "\n"
      ],
      "text/plain": [
       "        1         2         3         4         5         6 \n",
       "-2.167815 -2.167619 -2.029087 -1.970468 -1.961651 -1.834129 "
      ]
     },
     "metadata": {},
     "output_type": "display_data"
    }
   ],
   "source": [
    "head(predict(mod))"
   ]
  },
  {
   "cell_type": "code",
   "execution_count": 13,
   "metadata": {},
   "outputs": [
    {
     "data": {
      "image/png": "[encoded data removed]",
      "text/plain": [
       "plot without title"
      ]
     },
     "metadata": {
      "image/png": {
       "height": 420,
       "width": 420
      }
     },
     "output_type": "display_data"
    }
   ],
   "source": [
    "plot(d$y,predict(mod))"
   ]
  },
  {
   "cell_type": "markdown",
   "metadata": {},
   "source": [
    "# Calculating by hand"
   ]
  },
  {
   "cell_type": "code",
   "execution_count": 14,
   "metadata": {},
   "outputs": [
    {
     "data": {
      "text/html": [
       "<table class=\"dataframe\">\n",
       "<caption>A matrix: 6 × 2 of type dbl</caption>\n",
       "<tbody>\n",
       "\t<tr><td>1</td><td> 0.8215691</td></tr>\n",
       "\t<tr><td>1</td><td> 0.8205578</td></tr>\n",
       "\t<tr><td>1</td><td> 0.1077850</td></tr>\n",
       "\t<tr><td>1</td><td>-0.1938196</td></tr>\n",
       "\t<tr><td>1</td><td>-0.2391866</td></tr>\n",
       "\t<tr><td>1</td><td>-0.8953086</td></tr>\n",
       "</tbody>\n",
       "</table>\n"
      ],
      "text/latex": [
       "A matrix: 6 × 2 of type dbl\n",
       "\\begin{tabular}{ll}\n",
       "\t 1 &  0.8215691\\\\\n",
       "\t 1 &  0.8205578\\\\\n",
       "\t 1 &  0.1077850\\\\\n",
       "\t 1 & -0.1938196\\\\\n",
       "\t 1 & -0.2391866\\\\\n",
       "\t 1 & -0.8953086\\\\\n",
       "\\end{tabular}\n"
      ],
      "text/markdown": [
       "\n",
       "A matrix: 6 × 2 of type dbl\n",
       "\n",
       "| 1 |  0.8215691 |\n",
       "| 1 |  0.8205578 |\n",
       "| 1 |  0.1077850 |\n",
       "| 1 | -0.1938196 |\n",
       "| 1 | -0.2391866 |\n",
       "| 1 | -0.8953086 |\n",
       "\n"
      ],
      "text/plain": [
       "     [,1] [,2]      \n",
       "[1,] 1     0.8215691\n",
       "[2,] 1     0.8205578\n",
       "[3,] 1     0.1077850\n",
       "[4,] 1    -0.1938196\n",
       "[5,] 1    -0.2391866\n",
       "[6,] 1    -0.8953086"
      ]
     },
     "metadata": {},
     "output_type": "display_data"
    }
   ],
   "source": [
    "D = cbind(1,d$X)\n",
    "head(D)"
   ]
  },
  {
   "cell_type": "code",
   "execution_count": 15,
   "metadata": {},
   "outputs": [],
   "source": [
    "beta_hat = solve(t(D)%*%D)%*%t(D)%*%d$y"
   ]
  },
  {
   "cell_type": "code",
   "execution_count": 16,
   "metadata": {},
   "outputs": [
    {
     "data": {
      "text/html": [
       "<table class=\"dataframe\">\n",
       "<caption>A matrix: 2 × 1 of type dbl</caption>\n",
       "<tbody>\n",
       "\t<tr><td>-2.0081381</td></tr>\n",
       "\t<tr><td>-0.1943561</td></tr>\n",
       "</tbody>\n",
       "</table>\n"
      ],
      "text/latex": [
       "A matrix: 2 × 1 of type dbl\n",
       "\\begin{tabular}{l}\n",
       "\t -2.0081381\\\\\n",
       "\t -0.1943561\\\\\n",
       "\\end{tabular}\n"
      ],
      "text/markdown": [
       "\n",
       "A matrix: 2 × 1 of type dbl\n",
       "\n",
       "| -2.0081381 |\n",
       "| -0.1943561 |\n",
       "\n"
      ],
      "text/plain": [
       "     [,1]      \n",
       "[1,] -2.0081381\n",
       "[2,] -0.1943561"
      ]
     },
     "metadata": {},
     "output_type": "display_data"
    }
   ],
   "source": [
    "beta_hat"
   ]
  },
  {
   "cell_type": "code",
   "execution_count": 17,
   "metadata": {},
   "outputs": [
    {
     "data": {
      "text/html": [
       "<style>\n",
       ".dl-inline {width: auto; margin:0; padding: 0}\n",
       ".dl-inline>dt, .dl-inline>dd {float: none; width: auto; display: inline-block}\n",
       ".dl-inline>dt::after {content: \":\\0020\"; padding-right: .5ex}\n",
       ".dl-inline>dt:not(:first-of-type) {padding-left: .5ex}\n",
       "</style><dl class=dl-inline><dt>(Intercept)</dt><dd>-2.00813812705391</dd><dt>d$X</dt><dd>-0.194356112045342</dd></dl>\n"
      ],
      "text/latex": [
       "\\begin{description*}\n",
       "\\item[(Intercept)] -2.00813812705391\n",
       "\\item[d\\textbackslash{}\\$X] -0.194356112045342\n",
       "\\end{description*}\n"
      ],
      "text/markdown": [
       "(Intercept)\n",
       ":   -2.00813812705391d$X\n",
       ":   -0.194356112045342\n",
       "\n"
      ],
      "text/plain": [
       "(Intercept)         d$X \n",
       " -2.0081381  -0.1943561 "
      ]
     },
     "metadata": {},
     "output_type": "display_data"
    }
   ],
   "source": [
    "coef(mod)"
   ]
  },
  {
   "cell_type": "markdown",
   "metadata": {},
   "source": [
    "# Plotting the loss"
   ]
  },
  {
   "cell_type": "code",
   "execution_count": 18,
   "metadata": {},
   "outputs": [],
   "source": [
    "L = function(beta){\n",
    "    sum((d$y-cbind(1,d$X)%*%beta)^2)\n",
    "}"
   ]
  },
  {
   "cell_type": "code",
   "execution_count": 19,
   "metadata": {},
   "outputs": [],
   "source": [
    "beta_grid = expand.grid(beta0=seq(-3,3,by=.1),beta1=seq(-3,3,by=.1))"
   ]
  },
  {
   "cell_type": "code",
   "execution_count": 20,
   "metadata": {},
   "outputs": [
    {
     "data": {
      "text/html": [
       "<table class=\"dataframe\">\n",
       "<caption>A data.frame: 6 × 2</caption>\n",
       "<thead>\n",
       "\t<tr><th></th><th scope=col>beta0</th><th scope=col>beta1</th></tr>\n",
       "\t<tr><th></th><th scope=col>&lt;dbl&gt;</th><th scope=col>&lt;dbl&gt;</th></tr>\n",
       "</thead>\n",
       "<tbody>\n",
       "\t<tr><th scope=row>1</th><td>-3.0</td><td>-3</td></tr>\n",
       "\t<tr><th scope=row>2</th><td>-2.9</td><td>-3</td></tr>\n",
       "\t<tr><th scope=row>3</th><td>-2.8</td><td>-3</td></tr>\n",
       "\t<tr><th scope=row>4</th><td>-2.7</td><td>-3</td></tr>\n",
       "\t<tr><th scope=row>5</th><td>-2.6</td><td>-3</td></tr>\n",
       "\t<tr><th scope=row>6</th><td>-2.5</td><td>-3</td></tr>\n",
       "</tbody>\n",
       "</table>\n"
      ],
      "text/latex": [
       "A data.frame: 6 × 2\n",
       "\\begin{tabular}{r|ll}\n",
       "  & beta0 & beta1\\\\\n",
       "  & <dbl> & <dbl>\\\\\n",
       "\\hline\n",
       "\t1 & -3.0 & -3\\\\\n",
       "\t2 & -2.9 & -3\\\\\n",
       "\t3 & -2.8 & -3\\\\\n",
       "\t4 & -2.7 & -3\\\\\n",
       "\t5 & -2.6 & -3\\\\\n",
       "\t6 & -2.5 & -3\\\\\n",
       "\\end{tabular}\n"
      ],
      "text/markdown": [
       "\n",
       "A data.frame: 6 × 2\n",
       "\n",
       "| <!--/--> | beta0 &lt;dbl&gt; | beta1 &lt;dbl&gt; |\n",
       "|---|---|---|\n",
       "| 1 | -3.0 | -3 |\n",
       "| 2 | -2.9 | -3 |\n",
       "| 3 | -2.8 | -3 |\n",
       "| 4 | -2.7 | -3 |\n",
       "| 5 | -2.6 | -3 |\n",
       "| 6 | -2.5 | -3 |\n",
       "\n"
      ],
      "text/plain": [
       "  beta0 beta1\n",
       "1 -3.0  -3   \n",
       "2 -2.9  -3   \n",
       "3 -2.8  -3   \n",
       "4 -2.7  -3   \n",
       "5 -2.6  -3   \n",
       "6 -2.5  -3   "
      ]
     },
     "metadata": {},
     "output_type": "display_data"
    }
   ],
   "source": [
    "head(beta_grid)"
   ]
  },
  {
   "cell_type": "code",
   "execution_count": 22,
   "metadata": {},
   "outputs": [],
   "source": [
    "library('ggplot2')"
   ]
  },
  {
   "cell_type": "code",
   "execution_count": 24,
   "metadata": {},
   "outputs": [
    {
     "data": {
      "image/png": "[encoded data removed]",
      "text/plain": [
       "plot without title"
      ]
     },
     "metadata": {
      "image/png": {
       "height": 420,
       "width": 420
      }
     },
     "output_type": "display_data"
    }
   ],
   "source": [
    "ggplot(data=beta_grid,mapping=aes(x=beta0,y=beta1))+geom_point()"
   ]
  },
  {
   "cell_type": "code",
   "execution_count": 25,
   "metadata": {},
   "outputs": [],
   "source": [
    "beta_grid$L = apply(beta_grid,1,L)"
   ]
  },
  {
   "cell_type": "code",
   "execution_count": 26,
   "metadata": {},
   "outputs": [
    {
     "data": {
      "text/html": [
       "<table class=\"dataframe\">\n",
       "<caption>A data.frame: 6 × 3</caption>\n",
       "<thead>\n",
       "\t<tr><th></th><th scope=col>beta0</th><th scope=col>beta1</th><th scope=col>L</th></tr>\n",
       "\t<tr><th></th><th scope=col>&lt;dbl&gt;</th><th scope=col>&lt;dbl&gt;</th><th scope=col>&lt;dbl&gt;</th></tr>\n",
       "</thead>\n",
       "<tbody>\n",
       "\t<tr><th scope=row>1</th><td>-3.0</td><td>-3</td><td>912.3078</td></tr>\n",
       "\t<tr><th scope=row>2</th><td>-2.9</td><td>-3</td><td>893.9455</td></tr>\n",
       "\t<tr><th scope=row>3</th><td>-2.8</td><td>-3</td><td>877.5832</td></tr>\n",
       "\t<tr><th scope=row>4</th><td>-2.7</td><td>-3</td><td>863.2209</td></tr>\n",
       "\t<tr><th scope=row>5</th><td>-2.6</td><td>-3</td><td>850.8586</td></tr>\n",
       "\t<tr><th scope=row>6</th><td>-2.5</td><td>-3</td><td>840.4963</td></tr>\n",
       "</tbody>\n",
       "</table>\n"
      ],
      "text/latex": [
       "A data.frame: 6 × 3\n",
       "\\begin{tabular}{r|lll}\n",
       "  & beta0 & beta1 & L\\\\\n",
       "  & <dbl> & <dbl> & <dbl>\\\\\n",
       "\\hline\n",
       "\t1 & -3.0 & -3 & 912.3078\\\\\n",
       "\t2 & -2.9 & -3 & 893.9455\\\\\n",
       "\t3 & -2.8 & -3 & 877.5832\\\\\n",
       "\t4 & -2.7 & -3 & 863.2209\\\\\n",
       "\t5 & -2.6 & -3 & 850.8586\\\\\n",
       "\t6 & -2.5 & -3 & 840.4963\\\\\n",
       "\\end{tabular}\n"
      ],
      "text/markdown": [
       "\n",
       "A data.frame: 6 × 3\n",
       "\n",
       "| <!--/--> | beta0 &lt;dbl&gt; | beta1 &lt;dbl&gt; | L &lt;dbl&gt; |\n",
       "|---|---|---|---|\n",
       "| 1 | -3.0 | -3 | 912.3078 |\n",
       "| 2 | -2.9 | -3 | 893.9455 |\n",
       "| 3 | -2.8 | -3 | 877.5832 |\n",
       "| 4 | -2.7 | -3 | 863.2209 |\n",
       "| 5 | -2.6 | -3 | 850.8586 |\n",
       "| 6 | -2.5 | -3 | 840.4963 |\n",
       "\n"
      ],
      "text/plain": [
       "  beta0 beta1 L       \n",
       "1 -3.0  -3    912.3078\n",
       "2 -2.9  -3    893.9455\n",
       "3 -2.8  -3    877.5832\n",
       "4 -2.7  -3    863.2209\n",
       "5 -2.6  -3    850.8586\n",
       "6 -2.5  -3    840.4963"
      ]
     },
     "metadata": {},
     "output_type": "display_data"
    }
   ],
   "source": [
    "head(beta_grid)"
   ]
  },
  {
   "cell_type": "code",
   "execution_count": 27,
   "metadata": {
    "collapsed": true,
    "jupyter": {
     "outputs_hidden": true
    }
   },
   "outputs": [
    {
     "name": "stderr",
     "output_type": "stream",
     "text": [
      "Warning message:\n",
      "\"package 'viridis' was built under R version 4.0.5\"\n",
      "Loading required package: viridisLite\n",
      "\n",
      "Warning message:\n",
      "\"package 'viridisLite' was built under R version 4.0.5\"\n"
     ]
    }
   ],
   "source": [
    "library('ggplot2')\n",
    "library('viridis')"
   ]
  },
  {
   "cell_type": "code",
   "execution_count": 28,
   "metadata": {},
   "outputs": [],
   "source": [
    "beta_hat_df = data.frame(beta0=beta_hat[1],beta1=beta_hat[2])"
   ]
  },
  {
   "cell_type": "code",
   "execution_count": 29,
   "metadata": {},
   "outputs": [
    {
     "data": {
      "image/png": "[encoded data removed]",
      "text/plain": [
       "plot without title"
      ]
     },
     "metadata": {
      "image/png": {
       "height": 420,
       "width": 420
      }
     },
     "output_type": "display_data"
    }
   ],
   "source": [
    "ggplot(data=beta_grid,mapping=aes(x=beta0,y=beta1,fill=L,z=L))+geom_tile()+\n",
    "    scale_fill_viridis()+geom_contour()+\n",
    "    geom_point(data=beta_hat_df,mapping=aes(x=beta0,y=beta1),inherit.aes=FALSE,color='red',size=5)"
   ]
  },
  {
   "cell_type": "markdown",
   "metadata": {},
   "source": [
    "# Categorial variables"
   ]
  },
  {
   "cell_type": "markdown",
   "metadata": {},
   "source": [
    "<img src=\"https://upload.wikimedia.org/wikipedia/commons/thumb/0/08/South_Shetland-2016-Deception_Island%E2%80%93Chinstrap_penguin_%28Pygoscelis_antarctica%29_04.jpg/800px-South_Shetland-2016-Deception_Island%E2%80%93Chinstrap_penguin_%28Pygoscelis_antarctica%29_04.jpg\" width=\"200\" height=\"500\">"
   ]
  },
  {
   "cell_type": "code",
   "execution_count": null,
   "metadata": {},
   "outputs": [],
   "source": [
    "#install.packages(\"palmerpenguins\")"
   ]
  },
  {
   "cell_type": "code",
   "execution_count": 30,
   "metadata": {},
   "outputs": [],
   "source": [
    "library('palmerpenguins')"
   ]
  },
  {
   "cell_type": "code",
   "execution_count": 31,
   "metadata": {},
   "outputs": [],
   "source": [
    "penguins = penguins[complete.cases(penguins),]"
   ]
  },
  {
   "cell_type": "code",
   "execution_count": 32,
   "metadata": {},
   "outputs": [
    {
     "data": {
      "text/html": [
       "<table class=\"dataframe\">\n",
       "<caption>A tibble: 6 × 8</caption>\n",
       "<thead>\n",
       "\t<tr><th scope=col>species</th><th scope=col>island</th><th scope=col>bill_length_mm</th><th scope=col>bill_depth_mm</th><th scope=col>flipper_length_mm</th><th scope=col>body_mass_g</th><th scope=col>sex</th><th scope=col>year</th></tr>\n",
       "\t<tr><th scope=col>&lt;fct&gt;</th><th scope=col>&lt;fct&gt;</th><th scope=col>&lt;dbl&gt;</th><th scope=col>&lt;dbl&gt;</th><th scope=col>&lt;int&gt;</th><th scope=col>&lt;int&gt;</th><th scope=col>&lt;fct&gt;</th><th scope=col>&lt;int&gt;</th></tr>\n",
       "</thead>\n",
       "<tbody>\n",
       "\t<tr><td>Gentoo</td><td>Biscoe</td><td>51.5</td><td>16.3</td><td>230</td><td>5500</td><td>male  </td><td>2009</td></tr>\n",
       "\t<tr><td>Gentoo</td><td>Biscoe</td><td>41.7</td><td>14.7</td><td>210</td><td>4700</td><td>female</td><td>2009</td></tr>\n",
       "\t<tr><td>Adelie</td><td>Dream </td><td>40.8</td><td>18.4</td><td>195</td><td>3900</td><td>male  </td><td>2007</td></tr>\n",
       "\t<tr><td>Gentoo</td><td>Biscoe</td><td>45.1</td><td>14.5</td><td>207</td><td>5050</td><td>female</td><td>2007</td></tr>\n",
       "\t<tr><td>Adelie</td><td>Dream </td><td>40.2</td><td>20.1</td><td>200</td><td>3975</td><td>male  </td><td>2009</td></tr>\n",
       "\t<tr><td>Gentoo</td><td>Biscoe</td><td>47.5</td><td>14.0</td><td>212</td><td>4875</td><td>female</td><td>2009</td></tr>\n",
       "</tbody>\n",
       "</table>\n"
      ],
      "text/latex": [
       "A tibble: 6 × 8\n",
       "\\begin{tabular}{llllllll}\n",
       " species & island & bill\\_length\\_mm & bill\\_depth\\_mm & flipper\\_length\\_mm & body\\_mass\\_g & sex & year\\\\\n",
       " <fct> & <fct> & <dbl> & <dbl> & <int> & <int> & <fct> & <int>\\\\\n",
       "\\hline\n",
       "\t Gentoo & Biscoe & 51.5 & 16.3 & 230 & 5500 & male   & 2009\\\\\n",
       "\t Gentoo & Biscoe & 41.7 & 14.7 & 210 & 4700 & female & 2009\\\\\n",
       "\t Adelie & Dream  & 40.8 & 18.4 & 195 & 3900 & male   & 2007\\\\\n",
       "\t Gentoo & Biscoe & 45.1 & 14.5 & 207 & 5050 & female & 2007\\\\\n",
       "\t Adelie & Dream  & 40.2 & 20.1 & 200 & 3975 & male   & 2009\\\\\n",
       "\t Gentoo & Biscoe & 47.5 & 14.0 & 212 & 4875 & female & 2009\\\\\n",
       "\\end{tabular}\n"
      ],
      "text/markdown": [
       "\n",
       "A tibble: 6 × 8\n",
       "\n",
       "| species &lt;fct&gt; | island &lt;fct&gt; | bill_length_mm &lt;dbl&gt; | bill_depth_mm &lt;dbl&gt; | flipper_length_mm &lt;int&gt; | body_mass_g &lt;int&gt; | sex &lt;fct&gt; | year &lt;int&gt; |\n",
       "|---|---|---|---|---|---|---|---|\n",
       "| Gentoo | Biscoe | 51.5 | 16.3 | 230 | 5500 | male   | 2009 |\n",
       "| Gentoo | Biscoe | 41.7 | 14.7 | 210 | 4700 | female | 2009 |\n",
       "| Adelie | Dream  | 40.8 | 18.4 | 195 | 3900 | male   | 2007 |\n",
       "| Gentoo | Biscoe | 45.1 | 14.5 | 207 | 5050 | female | 2007 |\n",
       "| Adelie | Dream  | 40.2 | 20.1 | 200 | 3975 | male   | 2009 |\n",
       "| Gentoo | Biscoe | 47.5 | 14.0 | 212 | 4875 | female | 2009 |\n",
       "\n"
      ],
      "text/plain": [
       "  species island bill_length_mm bill_depth_mm flipper_length_mm body_mass_g\n",
       "1 Gentoo  Biscoe 51.5           16.3          230               5500       \n",
       "2 Gentoo  Biscoe 41.7           14.7          210               4700       \n",
       "3 Adelie  Dream  40.8           18.4          195               3900       \n",
       "4 Gentoo  Biscoe 45.1           14.5          207               5050       \n",
       "5 Adelie  Dream  40.2           20.1          200               3975       \n",
       "6 Gentoo  Biscoe 47.5           14.0          212               4875       \n",
       "  sex    year\n",
       "1 male   2009\n",
       "2 female 2009\n",
       "3 male   2007\n",
       "4 female 2007\n",
       "5 male   2009\n",
       "6 female 2009"
      ]
     },
     "metadata": {},
     "output_type": "display_data"
    }
   ],
   "source": [
    "head(penguins[sample(nrow(penguins)),])"
   ]
  },
  {
   "cell_type": "code",
   "execution_count": 33,
   "metadata": {},
   "outputs": [],
   "source": [
    "mod = lm(flipper_length_mm~bill_length_mm+species,data=penguins)"
   ]
  },
  {
   "cell_type": "code",
   "execution_count": 35,
   "metadata": {},
   "outputs": [
    {
     "data": {
      "text/plain": [
       "      species          island    bill_length_mm  bill_depth_mm  \n",
       " Adelie   :146   Biscoe   :163   Min.   :32.10   Min.   :13.10  \n",
       " Chinstrap: 68   Dream    :123   1st Qu.:39.50   1st Qu.:15.60  \n",
       " Gentoo   :119   Torgersen: 47   Median :44.50   Median :17.30  \n",
       "                                 Mean   :43.99   Mean   :17.16  \n",
       "                                 3rd Qu.:48.60   3rd Qu.:18.70  \n",
       "                                 Max.   :59.60   Max.   :21.50  \n",
       " flipper_length_mm  body_mass_g       sex           year     \n",
       " Min.   :172       Min.   :2700   female:165   Min.   :2007  \n",
       " 1st Qu.:190       1st Qu.:3550   male  :168   1st Qu.:2007  \n",
       " Median :197       Median :4050                Median :2008  \n",
       " Mean   :201       Mean   :4207                Mean   :2008  \n",
       " 3rd Qu.:213       3rd Qu.:4775                3rd Qu.:2009  \n",
       " Max.   :231       Max.   :6300                Max.   :2009  "
      ]
     },
     "metadata": {},
     "output_type": "display_data"
    }
   ],
   "source": [
    "summary(penguins)"
   ]
  },
  {
   "cell_type": "code",
   "execution_count": 34,
   "metadata": {},
   "outputs": [
    {
     "data": {
      "text/plain": [
       "\n",
       "Call:\n",
       "lm(formula = flipper_length_mm ~ bill_length_mm + species, data = penguins)\n",
       "\n",
       "Residuals:\n",
       "     Min       1Q   Median       3Q      Max \n",
       "-24.8669  -3.4617  -0.0765   3.7020  15.9944 \n",
       "\n",
       "Coefficients:\n",
       "                 Estimate Std. Error t value Pr(>|t|)    \n",
       "(Intercept)      147.5633     4.2234  34.940  < 2e-16 ***\n",
       "bill_length_mm     1.0957     0.1081  10.139  < 2e-16 ***\n",
       "speciesChinstrap  -5.2470     1.3797  -3.803  0.00017 ***\n",
       "speciesGentoo     17.5517     1.1883  14.771  < 2e-16 ***\n",
       "---\n",
       "Signif. codes:  0 '***' 0.001 '**' 0.01 '*' 0.05 '.' 0.1 ' ' 1\n",
       "\n",
       "Residual standard error: 5.833 on 329 degrees of freedom\n",
       "Multiple R-squared:  0.8283,\tAdjusted R-squared:  0.8268 \n",
       "F-statistic: 529.2 on 3 and 329 DF,  p-value: < 2.2e-16\n"
      ]
     },
     "metadata": {},
     "output_type": "display_data"
    }
   ],
   "source": [
    "summary(mod)"
   ]
  },
  {
   "cell_type": "code",
   "execution_count": 36,
   "metadata": {},
   "outputs": [
    {
     "data": {
      "text/html": [
       "<table class=\"dataframe\">\n",
       "<caption>A matrix: 6 × 4 of type dbl</caption>\n",
       "<thead>\n",
       "\t<tr><th></th><th scope=col>(Intercept)</th><th scope=col>bill_length_mm</th><th scope=col>speciesChinstrap</th><th scope=col>speciesGentoo</th></tr>\n",
       "</thead>\n",
       "<tbody>\n",
       "\t<tr><th scope=row>101</th><td>1</td><td>38.6</td><td>0</td><td>0</td></tr>\n",
       "\t<tr><th scope=row>173</th><td>1</td><td>47.8</td><td>0</td><td>1</td></tr>\n",
       "\t<tr><th scope=row>41</th><td>1</td><td>39.6</td><td>0</td><td>0</td></tr>\n",
       "\t<tr><th scope=row>30</th><td>1</td><td>36.4</td><td>0</td><td>0</td></tr>\n",
       "\t<tr><th scope=row>288</th><td>1</td><td>43.2</td><td>1</td><td>0</td></tr>\n",
       "\t<tr><th scope=row>308</th><td>1</td><td>50.9</td><td>1</td><td>0</td></tr>\n",
       "</tbody>\n",
       "</table>\n"
      ],
      "text/latex": [
       "A matrix: 6 × 4 of type dbl\n",
       "\\begin{tabular}{r|llll}\n",
       "  & (Intercept) & bill\\_length\\_mm & speciesChinstrap & speciesGentoo\\\\\n",
       "\\hline\n",
       "\t101 & 1 & 38.6 & 0 & 0\\\\\n",
       "\t173 & 1 & 47.8 & 0 & 1\\\\\n",
       "\t41 & 1 & 39.6 & 0 & 0\\\\\n",
       "\t30 & 1 & 36.4 & 0 & 0\\\\\n",
       "\t288 & 1 & 43.2 & 1 & 0\\\\\n",
       "\t308 & 1 & 50.9 & 1 & 0\\\\\n",
       "\\end{tabular}\n"
      ],
      "text/markdown": [
       "\n",
       "A matrix: 6 × 4 of type dbl\n",
       "\n",
       "| <!--/--> | (Intercept) | bill_length_mm | speciesChinstrap | speciesGentoo |\n",
       "|---|---|---|---|---|\n",
       "| 101 | 1 | 38.6 | 0 | 0 |\n",
       "| 173 | 1 | 47.8 | 0 | 1 |\n",
       "| 41 | 1 | 39.6 | 0 | 0 |\n",
       "| 30 | 1 | 36.4 | 0 | 0 |\n",
       "| 288 | 1 | 43.2 | 1 | 0 |\n",
       "| 308 | 1 | 50.9 | 1 | 0 |\n",
       "\n"
      ],
      "text/plain": [
       "    (Intercept) bill_length_mm speciesChinstrap speciesGentoo\n",
       "101 1           38.6           0                0            \n",
       "173 1           47.8           0                1            \n",
       "41  1           39.6           0                0            \n",
       "30  1           36.4           0                0            \n",
       "288 1           43.2           1                0            \n",
       "308 1           50.9           1                0            "
      ]
     },
     "metadata": {},
     "output_type": "display_data"
    }
   ],
   "source": [
    "D = model.matrix(~bill_length_mm+species,data=penguins)\n",
    "head(D[sample(nrow(D)),])"
   ]
  },
  {
   "cell_type": "code",
   "execution_count": 39,
   "metadata": {},
   "outputs": [
    {
     "data": {
      "text/html": [
       "<table class=\"dataframe\">\n",
       "<caption>A matrix: 6 × 1 of type int</caption>\n",
       "<tbody>\n",
       "\t<tr><td>181</td></tr>\n",
       "\t<tr><td>186</td></tr>\n",
       "\t<tr><td>195</td></tr>\n",
       "\t<tr><td>193</td></tr>\n",
       "\t<tr><td>190</td></tr>\n",
       "\t<tr><td>181</td></tr>\n",
       "</tbody>\n",
       "</table>\n"
      ],
      "text/latex": [
       "A matrix: 6 × 1 of type int\n",
       "\\begin{tabular}{l}\n",
       "\t 181\\\\\n",
       "\t 186\\\\\n",
       "\t 195\\\\\n",
       "\t 193\\\\\n",
       "\t 190\\\\\n",
       "\t 181\\\\\n",
       "\\end{tabular}\n"
      ],
      "text/markdown": [
       "\n",
       "A matrix: 6 × 1 of type int\n",
       "\n",
       "| 181 |\n",
       "| 186 |\n",
       "| 195 |\n",
       "| 193 |\n",
       "| 190 |\n",
       "| 181 |\n",
       "\n"
      ],
      "text/plain": [
       "     [,1]\n",
       "[1,] 181 \n",
       "[2,] 186 \n",
       "[3,] 195 \n",
       "[4,] 193 \n",
       "[5,] 190 \n",
       "[6,] 181 "
      ]
     },
     "metadata": {},
     "output_type": "display_data"
    }
   ],
   "source": [
    "y = penguins$flipper_length_mm\n",
    "y = array(y,c(length(y),1))\n",
    "head(y)"
   ]
  },
  {
   "cell_type": "code",
   "execution_count": 40,
   "metadata": {},
   "outputs": [],
   "source": [
    "beta_hat = solve(t(D)%*%D)%*%t(D)%*%y"
   ]
  },
  {
   "cell_type": "code",
   "execution_count": 41,
   "metadata": {},
   "outputs": [
    {
     "data": {
      "text/html": [
       "<table class=\"dataframe\">\n",
       "<caption>A matrix: 4 × 1 of type dbl</caption>\n",
       "<tbody>\n",
       "\t<tr><th scope=row>(Intercept)</th><td>147.563315</td></tr>\n",
       "\t<tr><th scope=row>bill_length_mm</th><td>  1.095700</td></tr>\n",
       "\t<tr><th scope=row>speciesChinstrap</th><td> -5.247004</td></tr>\n",
       "\t<tr><th scope=row>speciesGentoo</th><td> 17.551650</td></tr>\n",
       "</tbody>\n",
       "</table>\n"
      ],
      "text/latex": [
       "A matrix: 4 × 1 of type dbl\n",
       "\\begin{tabular}{r|l}\n",
       "\t(Intercept) & 147.563315\\\\\n",
       "\tbill\\_length\\_mm &   1.095700\\\\\n",
       "\tspeciesChinstrap &  -5.247004\\\\\n",
       "\tspeciesGentoo &  17.551650\\\\\n",
       "\\end{tabular}\n"
      ],
      "text/markdown": [
       "\n",
       "A matrix: 4 × 1 of type dbl\n",
       "\n",
       "| (Intercept) | 147.563315 |\n",
       "| bill_length_mm |   1.095700 |\n",
       "| speciesChinstrap |  -5.247004 |\n",
       "| speciesGentoo |  17.551650 |\n",
       "\n"
      ],
      "text/plain": [
       "                 [,1]      \n",
       "(Intercept)      147.563315\n",
       "bill_length_mm     1.095700\n",
       "speciesChinstrap  -5.247004\n",
       "speciesGentoo     17.551650"
      ]
     },
     "metadata": {},
     "output_type": "display_data"
    }
   ],
   "source": [
    "beta_hat"
   ]
  },
  {
   "cell_type": "code",
   "execution_count": 42,
   "metadata": {},
   "outputs": [
    {
     "data": {
      "text/html": [
       "<style>\n",
       ".dl-inline {width: auto; margin:0; padding: 0}\n",
       ".dl-inline>dt, .dl-inline>dd {float: none; width: auto; display: inline-block}\n",
       ".dl-inline>dt::after {content: \":\\0020\"; padding-right: .5ex}\n",
       ".dl-inline>dt:not(:first-of-type) {padding-left: .5ex}\n",
       "</style><dl class=dl-inline><dt>(Intercept)</dt><dd>147.563314532048</dd><dt>bill_length_mm</dt><dd>1.09569995912725</dd><dt>speciesChinstrap</dt><dd>-5.24700356548719</dd><dt>speciesGentoo</dt><dd>17.5516502693325</dd></dl>\n"
      ],
      "text/latex": [
       "\\begin{description*}\n",
       "\\item[(Intercept)] 147.563314532048\n",
       "\\item[bill\\textbackslash{}\\_length\\textbackslash{}\\_mm] 1.09569995912725\n",
       "\\item[speciesChinstrap] -5.24700356548719\n",
       "\\item[speciesGentoo] 17.5516502693325\n",
       "\\end{description*}\n"
      ],
      "text/markdown": [
       "(Intercept)\n",
       ":   147.563314532048bill_length_mm\n",
       ":   1.09569995912725speciesChinstrap\n",
       ":   -5.24700356548719speciesGentoo\n",
       ":   17.5516502693325\n",
       "\n"
      ],
      "text/plain": [
       "     (Intercept)   bill_length_mm speciesChinstrap    speciesGentoo \n",
       "      147.563315         1.095700        -5.247004        17.551650 "
      ]
     },
     "metadata": {},
     "output_type": "display_data"
    }
   ],
   "source": [
    "coef(mod)"
   ]
  },
  {
   "cell_type": "markdown",
   "metadata": {},
   "source": [
    "# Fitting Issues"
   ]
  },
  {
   "cell_type": "code",
   "execution_count": 43,
   "metadata": {},
   "outputs": [],
   "source": [
    "d = gen_data(100,200)"
   ]
  },
  {
   "cell_type": "code",
   "execution_count": 44,
   "metadata": {},
   "outputs": [
    {
     "data": {
      "text/html": [
       "<style>\n",
       ".list-inline {list-style: none; margin:0; padding: 0}\n",
       ".list-inline>li {display: inline-block}\n",
       ".list-inline>li:not(:last-child)::after {content: \"\\00b7\"; padding: 0 .5ex}\n",
       "</style>\n",
       "<ol class=list-inline><li>100</li><li>200</li></ol>\n"
      ],
      "text/latex": [
       "\\begin{enumerate*}\n",
       "\\item 100\n",
       "\\item 200\n",
       "\\end{enumerate*}\n"
      ],
      "text/markdown": [
       "1. 100\n",
       "2. 200\n",
       "\n",
       "\n"
      ],
      "text/plain": [
       "[1] 100 200"
      ]
     },
     "metadata": {},
     "output_type": "display_data"
    }
   ],
   "source": [
    "dim(d$X)"
   ]
  },
  {
   "cell_type": "code",
   "execution_count": 45,
   "metadata": {},
   "outputs": [
    {
     "data": {
      "text/plain": [
       "\n",
       "Call:\n",
       "lm(formula = d$y ~ d$X)\n",
       "\n",
       "Residuals:\n",
       "ALL 100 residuals are 0: no residual degrees of freedom!\n",
       "\n",
       "Coefficients: (101 not defined because of singularities)\n",
       "             Estimate Std. Error t value Pr(>|t|)\n",
       "(Intercept)   24.1493         NA      NA       NA\n",
       "d$X1         -59.4423         NA      NA       NA\n",
       "d$X2         -65.6052         NA      NA       NA\n",
       "d$X3          28.0193         NA      NA       NA\n",
       "d$X4        -106.7662         NA      NA       NA\n",
       "d$X5         -53.4637         NA      NA       NA\n",
       "d$X6         -56.7412         NA      NA       NA\n",
       "d$X7         149.8544         NA      NA       NA\n",
       "d$X8          61.5609         NA      NA       NA\n",
       "d$X9          40.3262         NA      NA       NA\n",
       "d$X10        -22.9564         NA      NA       NA\n",
       "d$X11        -10.4198         NA      NA       NA\n",
       "d$X12        -70.4882         NA      NA       NA\n",
       "d$X13          0.5308         NA      NA       NA\n",
       "d$X14        -59.9071         NA      NA       NA\n",
       "d$X15        -32.5773         NA      NA       NA\n",
       "d$X16         23.7916         NA      NA       NA\n",
       "d$X17          2.5898         NA      NA       NA\n",
       "d$X18        -22.5979         NA      NA       NA\n",
       "d$X19         68.6500         NA      NA       NA\n",
       "d$X20        105.8284         NA      NA       NA\n",
       "d$X21         -9.9436         NA      NA       NA\n",
       "d$X22        -20.5493         NA      NA       NA\n",
       "d$X23        -81.9764         NA      NA       NA\n",
       "d$X24        -26.7266         NA      NA       NA\n",
       "d$X25        -25.4712         NA      NA       NA\n",
       "d$X26         10.1496         NA      NA       NA\n",
       "d$X27        -88.7070         NA      NA       NA\n",
       "d$X28        135.1694         NA      NA       NA\n",
       "d$X29        -24.6707         NA      NA       NA\n",
       "d$X30         -6.9778         NA      NA       NA\n",
       "d$X31       -114.0906         NA      NA       NA\n",
       "d$X32       -109.2029         NA      NA       NA\n",
       "d$X33         88.1582         NA      NA       NA\n",
       "d$X34         78.4201         NA      NA       NA\n",
       "d$X35       -110.5421         NA      NA       NA\n",
       "d$X36         56.5776         NA      NA       NA\n",
       "d$X37         58.3098         NA      NA       NA\n",
       "d$X38         11.6365         NA      NA       NA\n",
       "d$X39        100.5419         NA      NA       NA\n",
       "d$X40       -119.3706         NA      NA       NA\n",
       "d$X41         26.2678         NA      NA       NA\n",
       "d$X42        139.7684         NA      NA       NA\n",
       "d$X43        -99.6952         NA      NA       NA\n",
       "d$X44         32.4106         NA      NA       NA\n",
       "d$X45          9.3122         NA      NA       NA\n",
       "d$X46        -60.0504         NA      NA       NA\n",
       "d$X47        -29.5850         NA      NA       NA\n",
       "d$X48         70.5928         NA      NA       NA\n",
       "d$X49         16.0018         NA      NA       NA\n",
       "d$X50         64.8202         NA      NA       NA\n",
       "d$X51        -31.4900         NA      NA       NA\n",
       "d$X52        -51.6612         NA      NA       NA\n",
       "d$X53        -75.7370         NA      NA       NA\n",
       "d$X54         25.6682         NA      NA       NA\n",
       "d$X55         63.7857         NA      NA       NA\n",
       "d$X56        -90.8832         NA      NA       NA\n",
       "d$X57         -5.2484         NA      NA       NA\n",
       "d$X58       -107.4244         NA      NA       NA\n",
       "d$X59         21.9397         NA      NA       NA\n",
       "d$X60        185.9042         NA      NA       NA\n",
       "d$X61        130.0333         NA      NA       NA\n",
       "d$X62         11.3327         NA      NA       NA\n",
       "d$X63        -15.1917         NA      NA       NA\n",
       "d$X64         29.1069         NA      NA       NA\n",
       "d$X65         18.0491         NA      NA       NA\n",
       "d$X66        -67.9891         NA      NA       NA\n",
       "d$X67        -56.0140         NA      NA       NA\n",
       "d$X68        -74.1591         NA      NA       NA\n",
       "d$X69        -84.0645         NA      NA       NA\n",
       "d$X70          3.8488         NA      NA       NA\n",
       "d$X71        -78.1650         NA      NA       NA\n",
       "d$X72         21.8888         NA      NA       NA\n",
       "d$X73         18.4647         NA      NA       NA\n",
       "d$X74       -116.9636         NA      NA       NA\n",
       "d$X75         -5.1418         NA      NA       NA\n",
       "d$X76         27.0356         NA      NA       NA\n",
       "d$X77         53.7686         NA      NA       NA\n",
       "d$X78        -70.7216         NA      NA       NA\n",
       "d$X79         14.5786         NA      NA       NA\n",
       "d$X80         87.4202         NA      NA       NA\n",
       "d$X81       -164.8443         NA      NA       NA\n",
       "d$X82         42.4027         NA      NA       NA\n",
       "d$X83         36.2199         NA      NA       NA\n",
       "d$X84        -23.1672         NA      NA       NA\n",
       "d$X85         35.8440         NA      NA       NA\n",
       "d$X86         30.5928         NA      NA       NA\n",
       "d$X87        -41.7872         NA      NA       NA\n",
       "d$X88        -18.6586         NA      NA       NA\n",
       "d$X89        -10.3629         NA      NA       NA\n",
       "d$X90        126.3142         NA      NA       NA\n",
       "d$X91         54.9001         NA      NA       NA\n",
       "d$X92        -81.3841         NA      NA       NA\n",
       "d$X93          1.8671         NA      NA       NA\n",
       "d$X94          9.0077         NA      NA       NA\n",
       "d$X95        -50.0318         NA      NA       NA\n",
       "d$X96         -8.7050         NA      NA       NA\n",
       "d$X97         33.5819         NA      NA       NA\n",
       "d$X98         33.8496         NA      NA       NA\n",
       "d$X99        -42.0880         NA      NA       NA\n",
       "d$X100             NA         NA      NA       NA\n",
       "d$X101             NA         NA      NA       NA\n",
       "d$X102             NA         NA      NA       NA\n",
       "d$X103             NA         NA      NA       NA\n",
       "d$X104             NA         NA      NA       NA\n",
       "d$X105             NA         NA      NA       NA\n",
       "d$X106             NA         NA      NA       NA\n",
       "d$X107             NA         NA      NA       NA\n",
       "d$X108             NA         NA      NA       NA\n",
       "d$X109             NA         NA      NA       NA\n",
       "d$X110             NA         NA      NA       NA\n",
       "d$X111             NA         NA      NA       NA\n",
       "d$X112             NA         NA      NA       NA\n",
       "d$X113             NA         NA      NA       NA\n",
       "d$X114             NA         NA      NA       NA\n",
       "d$X115             NA         NA      NA       NA\n",
       "d$X116             NA         NA      NA       NA\n",
       "d$X117             NA         NA      NA       NA\n",
       "d$X118             NA         NA      NA       NA\n",
       "d$X119             NA         NA      NA       NA\n",
       "d$X120             NA         NA      NA       NA\n",
       "d$X121             NA         NA      NA       NA\n",
       "d$X122             NA         NA      NA       NA\n",
       "d$X123             NA         NA      NA       NA\n",
       "d$X124             NA         NA      NA       NA\n",
       "d$X125             NA         NA      NA       NA\n",
       "d$X126             NA         NA      NA       NA\n",
       "d$X127             NA         NA      NA       NA\n",
       "d$X128             NA         NA      NA       NA\n",
       "d$X129             NA         NA      NA       NA\n",
       "d$X130             NA         NA      NA       NA\n",
       "d$X131             NA         NA      NA       NA\n",
       "d$X132             NA         NA      NA       NA\n",
       "d$X133             NA         NA      NA       NA\n",
       "d$X134             NA         NA      NA       NA\n",
       "d$X135             NA         NA      NA       NA\n",
       "d$X136             NA         NA      NA       NA\n",
       "d$X137             NA         NA      NA       NA\n",
       "d$X138             NA         NA      NA       NA\n",
       "d$X139             NA         NA      NA       NA\n",
       "d$X140             NA         NA      NA       NA\n",
       "d$X141             NA         NA      NA       NA\n",
       "d$X142             NA         NA      NA       NA\n",
       "d$X143             NA         NA      NA       NA\n",
       "d$X144             NA         NA      NA       NA\n",
       "d$X145             NA         NA      NA       NA\n",
       "d$X146             NA         NA      NA       NA\n",
       "d$X147             NA         NA      NA       NA\n",
       "d$X148             NA         NA      NA       NA\n",
       "d$X149             NA         NA      NA       NA\n",
       "d$X150             NA         NA      NA       NA\n",
       "d$X151             NA         NA      NA       NA\n",
       "d$X152             NA         NA      NA       NA\n",
       "d$X153             NA         NA      NA       NA\n",
       "d$X154             NA         NA      NA       NA\n",
       "d$X155             NA         NA      NA       NA\n",
       "d$X156             NA         NA      NA       NA\n",
       "d$X157             NA         NA      NA       NA\n",
       "d$X158             NA         NA      NA       NA\n",
       "d$X159             NA         NA      NA       NA\n",
       "d$X160             NA         NA      NA       NA\n",
       "d$X161             NA         NA      NA       NA\n",
       "d$X162             NA         NA      NA       NA\n",
       "d$X163             NA         NA      NA       NA\n",
       "d$X164             NA         NA      NA       NA\n",
       "d$X165             NA         NA      NA       NA\n",
       "d$X166             NA         NA      NA       NA\n",
       "d$X167             NA         NA      NA       NA\n",
       "d$X168             NA         NA      NA       NA\n",
       "d$X169             NA         NA      NA       NA\n",
       "d$X170             NA         NA      NA       NA\n",
       "d$X171             NA         NA      NA       NA\n",
       "d$X172             NA         NA      NA       NA\n",
       "d$X173             NA         NA      NA       NA\n",
       "d$X174             NA         NA      NA       NA\n",
       "d$X175             NA         NA      NA       NA\n",
       "d$X176             NA         NA      NA       NA\n",
       "d$X177             NA         NA      NA       NA\n",
       "d$X178             NA         NA      NA       NA\n",
       "d$X179             NA         NA      NA       NA\n",
       "d$X180             NA         NA      NA       NA\n",
       "d$X181             NA         NA      NA       NA\n",
       "d$X182             NA         NA      NA       NA\n",
       "d$X183             NA         NA      NA       NA\n",
       "d$X184             NA         NA      NA       NA\n",
       "d$X185             NA         NA      NA       NA\n",
       "d$X186             NA         NA      NA       NA\n",
       "d$X187             NA         NA      NA       NA\n",
       "d$X188             NA         NA      NA       NA\n",
       "d$X189             NA         NA      NA       NA\n",
       "d$X190             NA         NA      NA       NA\n",
       "d$X191             NA         NA      NA       NA\n",
       "d$X192             NA         NA      NA       NA\n",
       "d$X193             NA         NA      NA       NA\n",
       "d$X194             NA         NA      NA       NA\n",
       "d$X195             NA         NA      NA       NA\n",
       "d$X196             NA         NA      NA       NA\n",
       "d$X197             NA         NA      NA       NA\n",
       "d$X198             NA         NA      NA       NA\n",
       "d$X199             NA         NA      NA       NA\n",
       "d$X200             NA         NA      NA       NA\n",
       "\n",
       "Residual standard error: NaN on 0 degrees of freedom\n",
       "Multiple R-squared:      1,\tAdjusted R-squared:    NaN \n",
       "F-statistic:   NaN on 99 and 0 DF,  p-value: NA\n"
      ]
     },
     "metadata": {},
     "output_type": "display_data"
    }
   ],
   "source": [
    "mod = lm(d$y~d$X)\n",
    "summary(mod)"
   ]
  },
  {
   "cell_type": "code",
   "execution_count": 48,
   "metadata": {},
   "outputs": [
    {
     "data": {
      "text/html": [
       "<style>\n",
       ".dl-inline {width: auto; margin:0; padding: 0}\n",
       ".dl-inline>dt, .dl-inline>dd {float: none; width: auto; display: inline-block}\n",
       ".dl-inline>dt::after {content: \":\\0020\"; padding-right: .5ex}\n",
       ".dl-inline>dt:not(:first-of-type) {padding-left: .5ex}\n",
       "</style><dl class=dl-inline><dt>d$X195</dt><dd>&lt;NA&gt;</dd><dt>d$X196</dt><dd>&lt;NA&gt;</dd><dt>d$X197</dt><dd>&lt;NA&gt;</dd><dt>d$X198</dt><dd>&lt;NA&gt;</dd><dt>d$X199</dt><dd>&lt;NA&gt;</dd><dt>d$X200</dt><dd>&lt;NA&gt;</dd></dl>\n"
      ],
      "text/latex": [
       "\\begin{description*}\n",
       "\\item[d\\textbackslash{}\\$X195] <NA>\n",
       "\\item[d\\textbackslash{}\\$X196] <NA>\n",
       "\\item[d\\textbackslash{}\\$X197] <NA>\n",
       "\\item[d\\textbackslash{}\\$X198] <NA>\n",
       "\\item[d\\textbackslash{}\\$X199] <NA>\n",
       "\\item[d\\textbackslash{}\\$X200] <NA>\n",
       "\\end{description*}\n"
      ],
      "text/markdown": [
       "d$X195\n",
       ":   &lt;NA&gt;d$X196\n",
       ":   &lt;NA&gt;d$X197\n",
       ":   &lt;NA&gt;d$X198\n",
       ":   &lt;NA&gt;d$X199\n",
       ":   &lt;NA&gt;d$X200\n",
       ":   &lt;NA&gt;\n",
       "\n"
      ],
      "text/plain": [
       "d$X195 d$X196 d$X197 d$X198 d$X199 d$X200 \n",
       "    NA     NA     NA     NA     NA     NA "
      ]
     },
     "metadata": {},
     "output_type": "display_data"
    }
   ],
   "source": [
    "tail(coef(mod))"
   ]
  },
  {
   "cell_type": "code",
   "execution_count": 49,
   "metadata": {},
   "outputs": [
    {
     "data": {
      "text/html": [
       "<table class=\"dataframe\">\n",
       "<caption>A matrix: 5 × 5 of type dbl</caption>\n",
       "<thead>\n",
       "\t<tr><th></th><th scope=col>(Intercept)</th><th scope=col>d$X1</th><th scope=col>d$X2</th><th scope=col>d$X3</th><th scope=col>d$X4</th></tr>\n",
       "</thead>\n",
       "<tbody>\n",
       "\t<tr><th scope=row>1</th><td>1</td><td>-0.4419551</td><td> 1.2485607</td><td> 0.02024202</td><td>-1.5895637</td></tr>\n",
       "\t<tr><th scope=row>2</th><td>1</td><td> 0.5571218</td><td>-1.4213542</td><td> 0.36756942</td><td> 0.9998642</td></tr>\n",
       "\t<tr><th scope=row>3</th><td>1</td><td> 0.4712390</td><td> 0.8099290</td><td> 0.98271007</td><td>-1.0610416</td></tr>\n",
       "\t<tr><th scope=row>4</th><td>1</td><td> 1.6322126</td><td>-0.4924717</td><td> 0.28202648</td><td>-0.4242250</td></tr>\n",
       "\t<tr><th scope=row>5</th><td>1</td><td> 0.6771151</td><td> 1.3558162</td><td>-0.09156307</td><td>-0.4491900</td></tr>\n",
       "</tbody>\n",
       "</table>\n"
      ],
      "text/latex": [
       "A matrix: 5 × 5 of type dbl\n",
       "\\begin{tabular}{r|lllll}\n",
       "  & (Intercept) & d\\$X1 & d\\$X2 & d\\$X3 & d\\$X4\\\\\n",
       "\\hline\n",
       "\t1 & 1 & -0.4419551 &  1.2485607 &  0.02024202 & -1.5895637\\\\\n",
       "\t2 & 1 &  0.5571218 & -1.4213542 &  0.36756942 &  0.9998642\\\\\n",
       "\t3 & 1 &  0.4712390 &  0.8099290 &  0.98271007 & -1.0610416\\\\\n",
       "\t4 & 1 &  1.6322126 & -0.4924717 &  0.28202648 & -0.4242250\\\\\n",
       "\t5 & 1 &  0.6771151 &  1.3558162 & -0.09156307 & -0.4491900\\\\\n",
       "\\end{tabular}\n"
      ],
      "text/markdown": [
       "\n",
       "A matrix: 5 × 5 of type dbl\n",
       "\n",
       "| <!--/--> | (Intercept) | d$X1 | d$X2 | d$X3 | d$X4 |\n",
       "|---|---|---|---|---|---|\n",
       "| 1 | 1 | -0.4419551 |  1.2485607 |  0.02024202 | -1.5895637 |\n",
       "| 2 | 1 |  0.5571218 | -1.4213542 |  0.36756942 |  0.9998642 |\n",
       "| 3 | 1 |  0.4712390 |  0.8099290 |  0.98271007 | -1.0610416 |\n",
       "| 4 | 1 |  1.6322126 | -0.4924717 |  0.28202648 | -0.4242250 |\n",
       "| 5 | 1 |  0.6771151 |  1.3558162 | -0.09156307 | -0.4491900 |\n",
       "\n"
      ],
      "text/plain": [
       "  (Intercept) d$X1       d$X2       d$X3        d$X4      \n",
       "1 1           -0.4419551  1.2485607  0.02024202 -1.5895637\n",
       "2 1            0.5571218 -1.4213542  0.36756942  0.9998642\n",
       "3 1            0.4712390  0.8099290  0.98271007 -1.0610416\n",
       "4 1            1.6322126 -0.4924717  0.28202648 -0.4242250\n",
       "5 1            0.6771151  1.3558162 -0.09156307 -0.4491900"
      ]
     },
     "metadata": {},
     "output_type": "display_data"
    }
   ],
   "source": [
    "D = model.matrix(mod)\n",
    "D[1:5,1:5]"
   ]
  },
  {
   "cell_type": "code",
   "execution_count": 50,
   "metadata": {},
   "outputs": [
    {
     "ename": "ERROR",
     "evalue": "Error in solve.default(t(D) %*% D): system is computationally singular: reciprocal condition number = 1.26258e-19\n",
     "output_type": "error",
     "traceback": [
      "Error in solve.default(t(D) %*% D): system is computationally singular: reciprocal condition number = 1.26258e-19\nTraceback:\n",
      "1. solve(t(D) %*% D)",
      "2. solve.default(t(D) %*% D)"
     ]
    }
   ],
   "source": [
    "solve(t(D)%*%D)%*%t(D)%*%d$y"
   ]
  },
  {
   "cell_type": "markdown",
   "metadata": {},
   "source": [
    "another example"
   ]
  },
  {
   "cell_type": "code",
   "execution_count": 52,
   "metadata": {},
   "outputs": [
    {
     "data": {
      "text/html": [
       "<table class=\"dataframe\">\n",
       "<caption>A matrix: 6 × 2 of type dbl</caption>\n",
       "<thead>\n",
       "\t<tr><th scope=col>V1</th><th scope=col>V2</th></tr>\n",
       "</thead>\n",
       "<tbody>\n",
       "\t<tr><td>-0.7638261</td><td>-0.7638261</td></tr>\n",
       "\t<tr><td> 0.9739199</td><td> 0.9739199</td></tr>\n",
       "\t<tr><td>-0.2240167</td><td>-0.2240167</td></tr>\n",
       "\t<tr><td> 0.1846518</td><td> 0.1846518</td></tr>\n",
       "\t<tr><td> 0.1288847</td><td> 0.1288847</td></tr>\n",
       "\t<tr><td>-0.6221506</td><td>-0.6221506</td></tr>\n",
       "</tbody>\n",
       "</table>\n"
      ],
      "text/latex": [
       "A matrix: 6 × 2 of type dbl\n",
       "\\begin{tabular}{ll}\n",
       " V1 & V2\\\\\n",
       "\\hline\n",
       "\t -0.7638261 & -0.7638261\\\\\n",
       "\t  0.9739199 &  0.9739199\\\\\n",
       "\t -0.2240167 & -0.2240167\\\\\n",
       "\t  0.1846518 &  0.1846518\\\\\n",
       "\t  0.1288847 &  0.1288847\\\\\n",
       "\t -0.6221506 & -0.6221506\\\\\n",
       "\\end{tabular}\n"
      ],
      "text/markdown": [
       "\n",
       "A matrix: 6 × 2 of type dbl\n",
       "\n",
       "| V1 | V2 |\n",
       "|---|---|\n",
       "| -0.7638261 | -0.7638261 |\n",
       "|  0.9739199 |  0.9739199 |\n",
       "| -0.2240167 | -0.2240167 |\n",
       "|  0.1846518 |  0.1846518 |\n",
       "|  0.1288847 |  0.1288847 |\n",
       "| -0.6221506 | -0.6221506 |\n",
       "\n"
      ],
      "text/plain": [
       "     V1         V2        \n",
       "[1,] -0.7638261 -0.7638261\n",
       "[2,]  0.9739199  0.9739199\n",
       "[3,] -0.2240167 -0.2240167\n",
       "[4,]  0.1846518  0.1846518\n",
       "[5,]  0.1288847  0.1288847\n",
       "[6,] -0.6221506 -0.6221506"
      ]
     },
     "metadata": {},
     "output_type": "display_data"
    }
   ],
   "source": [
    "xx = rnorm(100)\n",
    "X = cbind(xx,xx)\n",
    "colnames(X) = c('V1','V2')\n",
    "head(X)"
   ]
  },
  {
   "cell_type": "code",
   "execution_count": 53,
   "metadata": {},
   "outputs": [
    {
     "data": {
      "text/html": [
       "<table class=\"dataframe\">\n",
       "<caption>A matrix: 2 × 1 of type dbl</caption>\n",
       "<tbody>\n",
       "\t<tr><td>3</td></tr>\n",
       "\t<tr><td>5</td></tr>\n",
       "</tbody>\n",
       "</table>\n"
      ],
      "text/latex": [
       "A matrix: 2 × 1 of type dbl\n",
       "\\begin{tabular}{l}\n",
       "\t 3\\\\\n",
       "\t 5\\\\\n",
       "\\end{tabular}\n"
      ],
      "text/markdown": [
       "\n",
       "A matrix: 2 × 1 of type dbl\n",
       "\n",
       "| 3 |\n",
       "| 5 |\n",
       "\n"
      ],
      "text/plain": [
       "     [,1]\n",
       "[1,] 3   \n",
       "[2,] 5   "
      ]
     },
     "metadata": {},
     "output_type": "display_data"
    }
   ],
   "source": [
    "true_beta = array(c(3,5),c(2,1))\n",
    "true_beta"
   ]
  },
  {
   "cell_type": "code",
   "execution_count": 54,
   "metadata": {},
   "outputs": [],
   "source": [
    "y = X %*% true_beta + rnorm(100,sd=1/10)"
   ]
  },
  {
   "cell_type": "code",
   "execution_count": 55,
   "metadata": {},
   "outputs": [
    {
     "data": {
      "text/plain": [
       "\n",
       "Call:\n",
       "lm(formula = y ~ X)\n",
       "\n",
       "Residuals:\n",
       "     Min       1Q   Median       3Q      Max \n",
       "-0.35018 -0.06364 -0.00011  0.06262  0.27811 \n",
       "\n",
       "Coefficients: (1 not defined because of singularities)\n",
       "            Estimate Std. Error t value Pr(>|t|)    \n",
       "(Intercept) -0.01083    0.01026  -1.056    0.294    \n",
       "XV1          7.99970    0.01061 753.815   <2e-16 ***\n",
       "XV2               NA         NA      NA       NA    \n",
       "---\n",
       "Signif. codes:  0 '***' 0.001 '**' 0.01 '*' 0.05 '.' 0.1 ' ' 1\n",
       "\n",
       "Residual standard error: 0.1024 on 98 degrees of freedom\n",
       "Multiple R-squared:  0.9998,\tAdjusted R-squared:  0.9998 \n",
       "F-statistic: 5.682e+05 on 1 and 98 DF,  p-value: < 2.2e-16\n"
      ]
     },
     "metadata": {},
     "output_type": "display_data"
    }
   ],
   "source": [
    "mod = lm(y~X)\n",
    "summary(mod)"
   ]
  },
  {
   "cell_type": "code",
   "execution_count": 56,
   "metadata": {},
   "outputs": [
    {
     "data": {
      "image/png": "[encoded data removed]",
      "text/plain": [
       "plot without title"
      ]
     },
     "metadata": {
      "image/png": {
       "height": 420,
       "width": 420
      }
     },
     "output_type": "display_data"
    }
   ],
   "source": [
    "plot(y,predict(mod))"
   ]
  },
  {
   "cell_type": "code",
   "execution_count": 57,
   "metadata": {},
   "outputs": [
    {
     "ename": "ERROR",
     "evalue": "Error in solve.default(t(D) %*% D): Lapack routine dgesv: system is exactly singular: U[3,3] = 0\n",
     "output_type": "error",
     "traceback": [
      "Error in solve.default(t(D) %*% D): Lapack routine dgesv: system is exactly singular: U[3,3] = 0\nTraceback:\n",
      "1. solve(t(D) %*% D)",
      "2. solve.default(t(D) %*% D)"
     ]
    }
   ],
   "source": [
    "D = cbind(1,X)\n",
    "beta_hat = solve(t(D)%*%D)%*%t(D)%*%y"
   ]
  },
  {
   "cell_type": "markdown",
   "metadata": {},
   "source": [
    "what does the loss look like?"
   ]
  },
  {
   "cell_type": "code",
   "execution_count": 58,
   "metadata": {},
   "outputs": [],
   "source": [
    "L = function(beta){\n",
    "    sum((y-X%*%beta)^2)\n",
    "}\n",
    "beta_grid = expand.grid(beta1=seq(-5,10,by=.1),beta2=seq(-5,10,by=.1))\n",
    "beta_grid$L = apply(beta_grid,1,L)"
   ]
  },
  {
   "cell_type": "code",
   "execution_count": 59,
   "metadata": {},
   "outputs": [
    {
     "data": {
      "image/png": "[encoded data removed]",
      "text/plain": [
       "plot without title"
      ]
     },
     "metadata": {
      "image/png": {
       "height": 420,
       "width": 420
      }
     },
     "output_type": "display_data"
    }
   ],
   "source": [
    "ggplot(data=beta_grid,mapping=aes(x=beta1,y=beta2,fill=L,z=L))+geom_tile()+\n",
    "    scale_fill_viridis()+geom_contour()"
   ]
  },
  {
   "cell_type": "markdown",
   "metadata": {},
   "source": [
    "# polynomial regression"
   ]
  },
  {
   "cell_type": "code",
   "execution_count": 61,
   "metadata": {},
   "outputs": [],
   "source": [
    "N = 100 \n",
    "P = 1\n",
    "X = array(rnorm(N*P),c(N,P))"
   ]
  },
  {
   "cell_type": "code",
   "execution_count": 68,
   "metadata": {},
   "outputs": [
    {
     "data": {
      "image/png": "[encoded data removed]",
      "text/plain": [
       "plot without title"
      ]
     },
     "metadata": {
      "image/png": {
       "height": 420,
       "width": 420
      }
     },
     "output_type": "display_data"
    }
   ],
   "source": [
    "y = X + 5*X^2 - X^3 + rnorm(100,0,.5)\n",
    "plot(X,y)"
   ]
  },
  {
   "cell_type": "code",
   "execution_count": 78,
   "metadata": {},
   "outputs": [
    {
     "data": {
      "text/html": [
       "<table class=\"dataframe\">\n",
       "<caption>A matrix: 6 × 4 of type dbl</caption>\n",
       "<tbody>\n",
       "\t<tr><td>1</td><td> 0.3704776</td><td>0.13725367</td><td> 0.05084941</td></tr>\n",
       "\t<tr><td>1</td><td>-0.2290636</td><td>0.05247012</td><td>-0.01201899</td></tr>\n",
       "\t<tr><td>1</td><td>-0.4102932</td><td>0.16834049</td><td>-0.06906895</td></tr>\n",
       "\t<tr><td>1</td><td> 0.9015095</td><td>0.81271931</td><td> 0.73267414</td></tr>\n",
       "\t<tr><td>1</td><td> 1.6880153</td><td>2.84939565</td><td> 4.80982346</td></tr>\n",
       "\t<tr><td>1</td><td> 0.6641557</td><td>0.44110281</td><td> 0.29296096</td></tr>\n",
       "</tbody>\n",
       "</table>\n"
      ],
      "text/latex": [
       "A matrix: 6 × 4 of type dbl\n",
       "\\begin{tabular}{llll}\n",
       "\t 1 &  0.3704776 & 0.13725367 &  0.05084941\\\\\n",
       "\t 1 & -0.2290636 & 0.05247012 & -0.01201899\\\\\n",
       "\t 1 & -0.4102932 & 0.16834049 & -0.06906895\\\\\n",
       "\t 1 &  0.9015095 & 0.81271931 &  0.73267414\\\\\n",
       "\t 1 &  1.6880153 & 2.84939565 &  4.80982346\\\\\n",
       "\t 1 &  0.6641557 & 0.44110281 &  0.29296096\\\\\n",
       "\\end{tabular}\n"
      ],
      "text/markdown": [
       "\n",
       "A matrix: 6 × 4 of type dbl\n",
       "\n",
       "| 1 |  0.3704776 | 0.13725367 |  0.05084941 |\n",
       "| 1 | -0.2290636 | 0.05247012 | -0.01201899 |\n",
       "| 1 | -0.4102932 | 0.16834049 | -0.06906895 |\n",
       "| 1 |  0.9015095 | 0.81271931 |  0.73267414 |\n",
       "| 1 |  1.6880153 | 2.84939565 |  4.80982346 |\n",
       "| 1 |  0.6641557 | 0.44110281 |  0.29296096 |\n",
       "\n"
      ],
      "text/plain": [
       "     [,1] [,2]       [,3]       [,4]       \n",
       "[1,] 1     0.3704776 0.13725367  0.05084941\n",
       "[2,] 1    -0.2290636 0.05247012 -0.01201899\n",
       "[3,] 1    -0.4102932 0.16834049 -0.06906895\n",
       "[4,] 1     0.9015095 0.81271931  0.73267414\n",
       "[5,] 1     1.6880153 2.84939565  4.80982346\n",
       "[6,] 1     0.6641557 0.44110281  0.29296096"
      ]
     },
     "metadata": {},
     "output_type": "display_data"
    }
   ],
   "source": [
    "D = cbind(1,X,X^2,X^3)\n",
    "head(D)"
   ]
  },
  {
   "cell_type": "code",
   "execution_count": 79,
   "metadata": {},
   "outputs": [],
   "source": [
    "beta_hat = solve(t(D)%*%D)%*%t(D)%*%y"
   ]
  },
  {
   "cell_type": "code",
   "execution_count": 80,
   "metadata": {},
   "outputs": [
    {
     "data": {
      "text/html": [
       "<table class=\"dataframe\">\n",
       "<caption>A matrix: 4 × 1 of type dbl</caption>\n",
       "<tbody>\n",
       "\t<tr><td>-0.001319342</td></tr>\n",
       "\t<tr><td> 1.159417545</td></tr>\n",
       "\t<tr><td> 4.983480691</td></tr>\n",
       "\t<tr><td>-1.055951487</td></tr>\n",
       "</tbody>\n",
       "</table>\n"
      ],
      "text/latex": [
       "A matrix: 4 × 1 of type dbl\n",
       "\\begin{tabular}{l}\n",
       "\t -0.001319342\\\\\n",
       "\t  1.159417545\\\\\n",
       "\t  4.983480691\\\\\n",
       "\t -1.055951487\\\\\n",
       "\\end{tabular}\n"
      ],
      "text/markdown": [
       "\n",
       "A matrix: 4 × 1 of type dbl\n",
       "\n",
       "| -0.001319342 |\n",
       "|  1.159417545 |\n",
       "|  4.983480691 |\n",
       "| -1.055951487 |\n",
       "\n"
      ],
      "text/plain": [
       "     [,1]        \n",
       "[1,] -0.001319342\n",
       "[2,]  1.159417545\n",
       "[3,]  4.983480691\n",
       "[4,] -1.055951487"
      ]
     },
     "metadata": {},
     "output_type": "display_data"
    }
   ],
   "source": [
    "beta_hat"
   ]
  },
  {
   "cell_type": "code",
   "execution_count": 81,
   "metadata": {},
   "outputs": [],
   "source": [
    "xp = seq(-2,2,length.out=100)"
   ]
  },
  {
   "cell_type": "code",
   "execution_count": 82,
   "metadata": {},
   "outputs": [],
   "source": [
    "Dp = cbind(1,xp,xp^2,xp^3)"
   ]
  },
  {
   "cell_type": "code",
   "execution_count": 83,
   "metadata": {},
   "outputs": [],
   "source": [
    "y_pred = Dp%*%beta_hat"
   ]
  },
  {
   "cell_type": "code",
   "execution_count": 84,
   "metadata": {},
   "outputs": [
    {
     "data": {
      "image/png": "[encoded data removed]",
      "text/plain": [
       "plot without title"
      ]
     },
     "metadata": {
      "image/png": {
       "height": 420,
       "width": 420
      }
     },
     "output_type": "display_data"
    }
   ],
   "source": [
    "plot(X,y)\n",
    "lines(xp,y_pred,col='red')"
   ]
  }
 ],
 "metadata": {
  "kernelspec": {
   "display_name": "R",
   "language": "R",
   "name": "ir"
  },
  "language_info": {
   "codemirror_mode": "r",
   "file_extension": ".r",
   "mimetype": "text/x-r-source",
   "name": "R",
   "pygments_lexer": "r",
   "version": "4.0.3"
  }
 },
 "nbformat": 4,
 "nbformat_minor": 4
}
